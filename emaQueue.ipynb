{
 "cells": [
  {
   "cell_type": "code",
   "execution_count": null,
   "metadata": {},
   "outputs": [],
   "source": [
    "class FixedSizeQueue:\n",
    "    def __init__(self, size):\n",
    "        self.size = size\n",
    "        self.queue = deque(maxlen=size)\n",
    "\n",
    "    def push(self, item):\n",
    "        self.queue.append(item)\n",
    "\n",
    "    def pop(self):\n",
    "        return self.queue.popleft() if len(self.queue) > 0 else None\n",
    "\n",
    "    def get_all(self):\n",
    "        return list(self.queue)\n",
    "\n",
    "    def __len__(self):\n",
    "        return len(self.get_all())\n",
    "\n",
    "    def full(self):\n",
    "        return len(self.queue) == self.size"
   ]
  }
 ],
 "metadata": {
  "kernelspec": {
   "display_name": "Python 3",
   "language": "python",
   "name": "python3"
  },
  "language_info": {
   "codemirror_mode": {
    "name": "ipython",
    "version": 3
   },
   "file_extension": ".py",
   "mimetype": "text/x-python",
   "name": "python",
   "nbconvert_exporter": "python",
   "pygments_lexer": "ipython3",
   "version": "3.8.3"
  }
 },
 "nbformat": 4,
 "nbformat_minor": 4
}
