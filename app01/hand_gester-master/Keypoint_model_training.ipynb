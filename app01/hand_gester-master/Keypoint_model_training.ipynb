{
 "cells": [
  {
   "cell_type": "code",
   "execution_count": 1,
   "metadata": {
    "id": "igMyGnjE9hEp"
   },
   "outputs": [],
   "source": [
    "import csv\n",
    "\n",
    "import numpy as np\n",
    "import pandas as pd\n",
    "import tensorflow as tf\n",
    "from sklearn.model_selection import train_test_split\n",
    "\n",
    "RANDOM_SEED = 42"
   ]
  },
  {
   "cell_type": "markdown",
   "metadata": {
    "id": "t2HDvhIu9hEr"
   },
   "source": [
    "# Specify each path"
   ]
  },
  {
   "cell_type": "code",
   "execution_count": 18,
   "metadata": {
    "id": "9NvZP2Zn9hEy"
   },
   "outputs": [],
   "source": [
    "# Specify data paths\n",
    "dataset = 'model/keypoint_classifier/keypoint.csv'\n",
    "model_save_path = 'model/keypoint_classifier/keypoint_classifier.hdf5'\n",
    "tflite_save_path = 'model/keypoint_classifier/keypoint_classifier.tflite'"
   ]
  },
  {
   "cell_type": "markdown",
   "metadata": {
    "id": "s5oMH7x19hEz"
   },
   "source": [
    "# Set number of classes"
   ]
  },
  {
   "cell_type": "code",
   "execution_count": 3,
   "metadata": {
    "id": "du4kodXL9hEz"
   },
   "outputs": [],
   "source": [
    "# Change training classes if necessary\n",
    "NUM_CLASSES = 10"
   ]
  },
  {
   "cell_type": "markdown",
   "metadata": {
    "id": "XjnL0uso9hEz"
   },
   "source": [
    "# Dataset reading"
   ]
  },
  {
   "cell_type": "code",
   "execution_count": 4,
   "metadata": {
    "id": "QT5ZqtEz9hE0"
   },
   "outputs": [],
   "source": [
    "X_dataset = np.loadtxt(dataset, delimiter=',', dtype='float32', usecols=list(range(1, (21 * 2) + 1)))"
   ]
  },
  {
   "cell_type": "code",
   "execution_count": 5,
   "metadata": {
    "id": "QmoKFsp49hE0"
   },
   "outputs": [],
   "source": [
    "y_dataset = np.loadtxt(dataset, delimiter=',', dtype='int32', usecols=(0))"
   ]
  },
  {
   "cell_type": "code",
   "execution_count": 6,
   "metadata": {
    "id": "xQU7JTZ_9hE0"
   },
   "outputs": [],
   "source": [
    "X_train, X_test, y_train, y_test = train_test_split(X_dataset, y_dataset, train_size=0.75, random_state=RANDOM_SEED)"
   ]
  },
  {
   "cell_type": "code",
   "execution_count": 7,
   "metadata": {
    "colab": {
     "base_uri": "https://localhost:8080/",
     "height": 279
    },
    "id": "xElG5FoPDQO9",
    "outputId": "2ef372ed-62e3-49c1-ad36-a5b5dc76701a"
   },
   "outputs": [
    {
     "name": "stdout",
     "output_type": "stream",
     "text": [
      "(array([0, 1, 2, 3, 4, 5, 6, 7, 8, 9]), array([1595, 1663, 1510,  672,  164,  207,  139,  190,  206,  206],\n",
      "      dtype=int64))\n"
     ]
    },
    {
     "data": {
      "image/png": "[encoded data removed]",
      "text/plain": [
       "<Figure size 432x288 with 1 Axes>"
      ]
     },
     "metadata": {
      "needs_background": "light"
     },
     "output_type": "display_data"
    }
   ],
   "source": [
    "# Classes count\n",
    "counts = np.unique(y_dataset, return_counts=True)\n",
    "df = pd.DataFrame(counts)\n",
    "df.T.plot(kind=\"bar\", stacked=True)\n",
    "print(counts)"
   ]
  },
  {
   "cell_type": "markdown",
   "metadata": {
    "id": "mxK_lETT9hE0"
   },
   "source": [
    "# Model building"
   ]
  },
  {
   "cell_type": "code",
   "execution_count": 8,
   "metadata": {
    "id": "vHBmUf1t9hE1"
   },
   "outputs": [],
   "source": [
    "model = tf.keras.models.Sequential([\n",
    "    tf.keras.layers.InputLayer((21 * 2, )),\n",
    "    tf.keras.layers.Dropout(0.0),\n",
    "    tf.keras.layers.Dense(32, activation='relu'),\n",
    "    tf.keras.layers.Dropout(0.0),\n",
    "    tf.keras.layers.Dense(32, activation='relu'),\n",
    "    tf.keras.layers.Dropout(0.0),\n",
    "    tf.keras.layers.Dense(16, activation='relu'),\n",
    "    tf.keras.layers.Dense(NUM_CLASSES, activation='softmax')\n",
    "])"
   ]
  },
  {
   "cell_type": "code",
   "execution_count": 9,
   "metadata": {
    "colab": {
     "base_uri": "https://localhost:8080/"
    },
    "id": "ypqky9tc9hE1",
    "outputId": "c42f3550-ceee-45b8-d40d-d99fd84a2616"
   },
   "outputs": [
    {
     "name": "stdout",
     "output_type": "stream",
     "text": [
      "Model: \"sequential\"\n",
      "_________________________________________________________________\n",
      " Layer (type)                Output Shape              Param #   \n",
      "=================================================================\n",
      " dropout (Dropout)           (None, 42)                0         \n",
      "                                                                 \n",
      " dense (Dense)               (None, 32)                1376      \n",
      "                                                                 \n",
      " dropout_1 (Dropout)         (None, 32)                0         \n",
      "                                                                 \n",
      " dense_1 (Dense)             (None, 32)                1056      \n",
      "                                                                 \n",
      " dropout_2 (Dropout)         (None, 32)                0         \n",
      "                                                                 \n",
      " dense_2 (Dense)             (None, 16)                528       \n",
      "                                                                 \n",
      " dense_3 (Dense)             (None, 10)                170       \n",
      "                                                                 \n",
      "=================================================================\n",
      "Total params: 3,130\n",
      "Trainable params: 3,130\n",
      "Non-trainable params: 0\n",
      "_________________________________________________________________\n"
     ]
    }
   ],
   "source": [
    "model.summary()  # tf.keras.utils.plot_model(model, show_shapes=True)"
   ]
  },
  {
   "cell_type": "code",
   "execution_count": 10,
   "metadata": {
    "id": "MbMjOflQ9hE1"
   },
   "outputs": [],
   "source": [
    "# Model checkpoint callback\n",
    "cp_callback = tf.keras.callbacks.ModelCheckpoint(\n",
    "    model_save_path, verbose=1, save_weights_only=False, save_best_only=True)\n",
    "# Callback for early stopping\n",
    "es_callback = tf.keras.callbacks.EarlyStopping(patience=50, verbose=1)"
   ]
  },
  {
   "cell_type": "code",
   "execution_count": 11,
   "metadata": {
    "id": "c3Dac0M_9hE2"
   },
   "outputs": [],
   "source": [
    "# Model compilation\n",
    "model.compile(\n",
    "    optimizer='adam',\n",
    "    loss='sparse_categorical_crossentropy',\n",
    "    metrics=['accuracy']\n",
    ")"
   ]
  },
  {
   "cell_type": "markdown",
   "metadata": {
    "id": "7XI0j1Iu9hE2"
   },
   "source": [
    "# Model training"
   ]
  },
  {
   "cell_type": "code",
   "execution_count": 12,
   "metadata": {
    "id": "WirBl-JE9hE3",
    "scrolled": true
   },
   "outputs": [
    {
     "name": "stdout",
     "output_type": "stream",
     "text": [
      "Epoch 1/1000\n",
      "50/77 [==================>...........] - ETA: 0s - loss: 2.1037 - accuracy: 0.2316 \b\b\b\b\b\b\b\b\b\b\b\b\b\b\b\b\b\b\b\b\b\b\b\b\b\b\b\b\b\b\b\b\b\b\b\b\b\b\b\b\b\b\b\b\b\b\b\b\b\b\b\b\b\b\b\b\b\b\b\b\b\b\b\b\b\b\b\b\b\b\b\b\b\b\b\b\b\b\b\b\b\b\b\n",
      "Epoch 1: val_loss improved from inf to 1.55905, saving model to model/keypoint_classifier\\keypoint_classifier_TEST.hdf5\n",
      "77/77 [==============================] - 1s 3ms/step - loss: 1.9752 - accuracy: 0.3059 - val_loss: 1.5591 - val_accuracy: 0.5775\n",
      "Epoch 2/1000\n",
      "51/77 [==================>...........] - ETA: 0s - loss: 1.3511 - accuracy: 0.6088\b\b\b\b\b\b\b\b\b\b\b\b\b\b\b\b\b\b\b\b\b\b\b\b\b\b\b\b\b\b\b\b\b\b\b\b\b\b\b\b\b\b\b\b\b\b\b\b\b\b\b\b\b\b\b\b\b\b\b\b\b\b\b\b\b\b\b\b\b\b\b\b\b\b\b\b\b\b\b\b\b\b\n",
      "Epoch 2: val_loss improved from 1.55905 to 0.97670, saving model to model/keypoint_classifier\\keypoint_classifier_TEST.hdf5\n",
      "77/77 [==============================] - 0s 2ms/step - loss: 1.2533 - accuracy: 0.6394 - val_loss: 0.9767 - val_accuracy: 0.7283\n",
      "Epoch 3/1000\n",
      "57/77 [=====================>........] - ETA: 0s - loss: 0.8638 - accuracy: 0.7368\b\b\b\b\b\b\b\b\b\b\b\b\b\b\b\b\b\b\b\b\b\b\b\b\b\b\b\b\b\b\b\b\b\b\b\b\b\b\b\b\b\b\b\b\b\b\b\b\b\b\b\b\b\b\b\b\b\b\b\b\b\b\b\b\b\b\b\b\b\b\b\b\b\b\b\b\b\b\b\b\b\b\n",
      "Epoch 3: val_loss improved from 0.97670 to 0.69553, saving model to model/keypoint_classifier\\keypoint_classifier_TEST.hdf5\n",
      "77/77 [==============================] - 0s 2ms/step - loss: 0.8367 - accuracy: 0.7407 - val_loss: 0.6955 - val_accuracy: 0.7827\n",
      "Epoch 4/1000\n",
      "47/77 [=================>............] - ETA: 0s - loss: 0.6591 - accuracy: 0.7726\b\b\b\b\b\b\b\b\b\b\b\b\b\b\b\b\b\b\b\b\b\b\b\b\b\b\b\b\b\b\b\b\b\b\b\b\b\b\b\b\b\b\b\b\b\b\b\b\b\b\b\b\b\b\b\b\b\b\b\b\b\b\b\b\b\b\b\b\b\b\b\b\b\b\b\b\b\b\b\b\b\b\n",
      "Epoch 4: val_loss improved from 0.69553 to 0.53079, saving model to model/keypoint_classifier\\keypoint_classifier_TEST.hdf5\n",
      "77/77 [==============================] - 0s 2ms/step - loss: 0.6256 - accuracy: 0.7806 - val_loss: 0.5308 - val_accuracy: 0.8126\n",
      "Epoch 5/1000\n",
      "53/77 [===================>..........] - ETA: 0s - loss: 0.5032 - accuracy: 0.8107\b\b\b\b\b\b\b\b\b\b\b\b\b\b\b\b\b\b\b\b\b\b\b\b\b\b\b\b\b\b\b\b\b\b\b\b\b\b\b\b\b\b\b\b\b\b\b\b\b\b\b\b\b\b\b\b\b\b\b\b\b\b\b\b\b\b\b\b\b\b\b\b\b\b\b\b\b\b\b\b\b\b\n",
      "Epoch 5: val_loss improved from 0.53079 to 0.40865, saving model to model/keypoint_classifier\\keypoint_classifier_TEST.hdf5\n",
      "77/77 [==============================] - 0s 2ms/step - loss: 0.4808 - accuracy: 0.8223 - val_loss: 0.4087 - val_accuracy: 0.8687\n",
      "Epoch 6/1000\n",
      "51/77 [==================>...........] - ETA: 0s - loss: 0.3875 - accuracy: 0.8833\b\b\b\b\b\b\b\b\b\b\b\b\b\b\b\b\b\b\b\b\b\b\b\b\b\b\b\b\b\b\b\b\b\b\b\b\b\b\b\b\b\b\b\b\b\b\b\b\b\b\b\b\b\b\b\b\b\b\b\b\b\b\b\b\b\b\b\b\b\b\b\b\b\b\b\b\b\b\b\b\b\b\n",
      "Epoch 6: val_loss improved from 0.40865 to 0.32486, saving model to model/keypoint_classifier\\keypoint_classifier_TEST.hdf5\n",
      "77/77 [==============================] - 0s 2ms/step - loss: 0.3779 - accuracy: 0.8928 - val_loss: 0.3249 - val_accuracy: 0.9072\n",
      "Epoch 7/1000\n",
      "50/77 [==================>...........] - ETA: 0s - loss: 0.3066 - accuracy: 0.9222\b\b\b\b\b\b\b\b\b\b\b\b\b\b\b\b\b\b\b\b\b\b\b\b\b\b\b\b\b\b\b\b\b\b\b\b\b\b\b\b\b\b\b\b\b\b\b\b\b\b\b\b\b\b\b\b\b\b\b\b\b\b\b\b\b\b\b\b\b\b\b\b\b\b\b\b\b\b\b\b\b\b\n",
      "Epoch 7: val_loss improved from 0.32486 to 0.26098, saving model to model/keypoint_classifier\\keypoint_classifier_TEST.hdf5\n",
      "77/77 [==============================] - 0s 2ms/step - loss: 0.2961 - accuracy: 0.9300 - val_loss: 0.2610 - val_accuracy: 0.9408\n",
      "Epoch 8/1000\n",
      "54/77 [====================>.........] - ETA: 0s - loss: 0.2459 - accuracy: 0.9447\b\b\b\b\b\b\b\b\b\b\b\b\b\b\b\b\b\b\b\b\b\b\b\b\b\b\b\b\b\b\b\b\b\b\b\b\b\b\b\b\b\b\b\b\b\b\b\b\b\b\b\b\b\b\b\b\b\b\b\b\b\b\b\b\b\b\b\b\b\b\b\b\b\b\b\b\b\b\b\b\b\b\n",
      "Epoch 8: val_loss improved from 0.26098 to 0.21809, saving model to model/keypoint_classifier\\keypoint_classifier_TEST.hdf5\n",
      "77/77 [==============================] - 0s 2ms/step - loss: 0.2417 - accuracy: 0.9455 - val_loss: 0.2181 - val_accuracy: 0.9505\n",
      "Epoch 9/1000\n",
      "46/77 [================>.............] - ETA: 0s - loss: 0.2066 - accuracy: 0.9558\b\b\b\b\b\b\b\b\b\b\b\b\b\b\b\b\b\b\b\b\b\b\b\b\b\b\b\b\b\b\b\b\b\b\b\b\b\b\b\b\b\b\b\b\b\b\b\b\b\b\b\b\b\b\b\b\b\b\b\b\b\b\b\b\b\b\b\b\b\b\b\b\b\b\b\b\b\b\b\b\b\b\n",
      "Epoch 9: val_loss improved from 0.21809 to 0.18573, saving model to model/keypoint_classifier\\keypoint_classifier_TEST.hdf5\n",
      "77/77 [==============================] - 0s 2ms/step - loss: 0.2021 - accuracy: 0.9560 - val_loss: 0.1857 - val_accuracy: 0.9603\n",
      "Epoch 10/1000\n",
      "51/77 [==================>...........] - ETA: 0s - loss: 0.1849 - accuracy: 0.9614\b\b\b\b\b\b\b\b\b\b\b\b\b\b\b\b\b\b\b\b\b\b\b\b\b\b\b\b\b\b\b\b\b\b\b\b\b\b\b\b\b\b\b\b\b\b\b\b\b\b\b\b\b\b\b\b\b\b\b\b\b\b\b\b\b\b\b\b\b\b\b\b\b\b\b\b\b\b\b\b\b\b\n",
      "Epoch 10: val_loss improved from 0.18573 to 0.16863, saving model to model/keypoint_classifier\\keypoint_classifier_TEST.hdf5\n",
      "77/77 [==============================] - 0s 2ms/step - loss: 0.1739 - accuracy: 0.9628 - val_loss: 0.1686 - val_accuracy: 0.9560\n",
      "Epoch 11/1000\n",
      "50/77 [==================>...........] - ETA: 0s - loss: 0.1498 - accuracy: 0.9681\b\b\b\b\b\b\b\b\b\b\b\b\b\b\b\b\b\b\b\b\b\b\b\b\b\b\b\b\b\b\b\b\b\b\b\b\b\b\b\b\b\b\b\b\b\b\b\b\b\b\b\b\b\b\b\b\b\b\b\b\b\b\b\b\b\b\b\b\b\b\b\b\b\b\b\b\b\b\b\b\b\b\n",
      "Epoch 11: val_loss improved from 0.16863 to 0.15126, saving model to model/keypoint_classifier\\keypoint_classifier_TEST.hdf5\n",
      "77/77 [==============================] - 0s 2ms/step - loss: 0.1493 - accuracy: 0.9681 - val_loss: 0.1513 - val_accuracy: 0.9609\n",
      "Epoch 12/1000\n",
      "46/77 [================>.............] - ETA: 0s - loss: 0.1334 - accuracy: 0.9715\b\b\b\b\b\b\b\b\b\b\b\b\b\b\b\b\b\b\b\b\b\b\b\b\b\b\b\b\b\b\b\b\b\b\b\b\b\b\b\b\b\b\b\b\b\b\b\b\b\b\b\b\b\b\b\b\b\b\b\b\b\b\b\b\b\b\b\b\b\b\b\b\b\b\b\b\b\b\b\b\b\b\n",
      "Epoch 12: val_loss improved from 0.15126 to 0.14801, saving model to model/keypoint_classifier\\keypoint_classifier_TEST.hdf5\n",
      "77/77 [==============================] - 0s 2ms/step - loss: 0.1370 - accuracy: 0.9715 - val_loss: 0.1480 - val_accuracy: 0.9658\n",
      "Epoch 13/1000\n",
      "47/77 [=================>............] - ETA: 0s - loss: 0.1221 - accuracy: 0.9754\b\b\b\b\b\b\b\b\b\b\b\b\b\b\b\b\b\b\b\b\b\b\b\b\b\b\b\b\b\b\b\b\b\b\b\b\b\b\b\b\b\b\b\b\b\b\b\b\b\b\b\b\b\b\b\b\b\b\b\b\b\b\b\b\b\b\b\b\b\b\b\b\b\b\b\b\b\b\b\b\b\b\n",
      "Epoch 13: val_loss improved from 0.14801 to 0.12837, saving model to model/keypoint_classifier\\keypoint_classifier_TEST.hdf5\n",
      "77/77 [==============================] - 0s 2ms/step - loss: 0.1203 - accuracy: 0.9752 - val_loss: 0.1284 - val_accuracy: 0.9731\n",
      "Epoch 14/1000\n",
      "51/77 [==================>...........] - ETA: 0s - loss: 0.1220 - accuracy: 0.9709\b\b\b\b\b\b\b\b\b\b\b\b\b\b\b\b\b\b\b\b\b\b\b\b\b\b\b\b\b\b\b\b\b\b\b\b\b\b\b\b\b\b\b\b\b\b\b\b\b\b\b\b\b\b\b\b\b\b\b\b\b\b\b\b\b\b\b\b\b\b\b\b\b\b\b\b\b\b\b\b\b\b\n",
      "Epoch 14: val_loss improved from 0.12837 to 0.11683, saving model to model/keypoint_classifier\\keypoint_classifier_TEST.hdf5\n",
      "77/77 [==============================] - 0s 2ms/step - loss: 0.1180 - accuracy: 0.9723 - val_loss: 0.1168 - val_accuracy: 0.9719\n",
      "Epoch 15/1000\n",
      "52/77 [===================>..........] - ETA: 0s - loss: 0.1023 - accuracy: 0.9784\b\b\b\b\b\b\b\b\b\b\b\b\b\b\b\b\b\b\b\b\b\b\b\b\b\b\b\b\b\b\b\b\b\b\b\b\b\b\b\b\b\b\b\b\b\b\b\b\b\b\b\b\b\b\b\b\b\b\b\b\b\b\b\b\b\b\b\b\b\b\b\b\b\b\b\b\b\b\b\b\b\b\n",
      "Epoch 15: val_loss improved from 0.11683 to 0.10918, saving model to model/keypoint_classifier\\keypoint_classifier_TEST.hdf5\n",
      "77/77 [==============================] - 0s 2ms/step - loss: 0.1007 - accuracy: 0.9784 - val_loss: 0.1092 - val_accuracy: 0.9701\n",
      "Epoch 16/1000\n",
      "56/77 [====================>.........] - ETA: 0s - loss: 0.0947 - accuracy: 0.9777\b\b\b\b\b\b\b\b\b\b\b\b\b\b\b\b\b\b\b\b\b\b\b\b\b\b\b\b\b\b\b\b\b\b\b\b\b\b\b\b\b\b\b\b\b\b\b\b\b\b\b\b\b\b\b\b\b\b\b\b\b\b\b\b\b\b\b\b\b\b\b\b\b\b\b\b\b\b\b\b\b\b\n",
      "Epoch 16: val_loss improved from 0.10918 to 0.10567, saving model to model/keypoint_classifier\\keypoint_classifier_TEST.hdf5\n",
      "77/77 [==============================] - 0s 2ms/step - loss: 0.0943 - accuracy: 0.9776 - val_loss: 0.1057 - val_accuracy: 0.9750\n",
      "Epoch 17/1000\n",
      "54/77 [====================>.........] - ETA: 0s - loss: 0.0891 - accuracy: 0.9803\b\b\b\b\b\b\b\b\b\b\b\b\b\b\b\b\b\b\b\b\b\b\b\b\b\b\b\b\b\b\b\b\b\b\b\b\b\b\b\b\b\b\b\b\b\b\b\b\b\b\b\b\b\b\b\b\b\b\b\b\b\b\b\b\b\b\b\b\b\b\b\b\b\b\b\b\b\b\b\b\b\b\n",
      "Epoch 17: val_loss improved from 0.10567 to 0.09718, saving model to model/keypoint_classifier\\keypoint_classifier_TEST.hdf5\n",
      "77/77 [==============================] - 0s 2ms/step - loss: 0.0881 - accuracy: 0.9815 - val_loss: 0.0972 - val_accuracy: 0.9762\n",
      "Epoch 18/1000\n",
      "50/77 [==================>...........] - ETA: 0s - loss: 0.0818 - accuracy: 0.9825\b\b\b\b\b\b\b\b\b\b\b\b\b\b\b\b\b\b\b\b\b\b\b\b\b\b\b\b\b\b\b\b\b\b\b\b\b\b\b\b\b\b\b\b\b\b\b\b\b\b\b\b\b\b\b\b\b\b\b\b\b\b\b\b\b\b\b\b\b\b\b\b\b\b\b\b\b\b\b\b\b\b\n",
      "Epoch 18: val_loss improved from 0.09718 to 0.09687, saving model to model/keypoint_classifier\\keypoint_classifier_TEST.hdf5\n",
      "77/77 [==============================] - 0s 2ms/step - loss: 0.0835 - accuracy: 0.9809 - val_loss: 0.0969 - val_accuracy: 0.9768\n",
      "Epoch 19/1000\n",
      "46/77 [================>.............] - ETA: 0s - loss: 0.0871 - accuracy: 0.9783\b\b\b\b\b\b\b\b\b\b\b\b\b\b\b\b\b\b\b\b\b\b\b\b\b\b\b\b\b\b\b\b\b\b\b\b\b\b\b\b\b\b\b\b\b\b\b\b\b\b\b\b\b\b\b\b\b\b\b\b\b\b\b\b\b\b\b\b\b\b\b\b\b\b\b\b\b\b\b\b\b\b\n",
      "Epoch 19: val_loss improved from 0.09687 to 0.09410, saving model to model/keypoint_classifier\\keypoint_classifier_TEST.hdf5\n",
      "77/77 [==============================] - 0s 2ms/step - loss: 0.0790 - accuracy: 0.9817 - val_loss: 0.0941 - val_accuracy: 0.9762\n",
      "Epoch 20/1000\n",
      "51/77 [==================>...........] - ETA: 0s - loss: 0.0708 - accuracy: 0.9862\b\b\b\b\b\b\b\b\b\b\b\b\b\b\b\b\b\b\b\b\b\b\b\b\b\b\b\b\b\b\b\b\b\b\b\b\b\b\b\b\b\b\b\b\b\b\b\b\b\b\b\b\b\b\b\b\b\b\b\b\b\b\b\b\b\b\b\b\b\b\b\b\b\b\b\b\b\b\b\b\b\b\n",
      "Epoch 20: val_loss improved from 0.09410 to 0.08670, saving model to model/keypoint_classifier\\keypoint_classifier_TEST.hdf5\n",
      "77/77 [==============================] - 0s 2ms/step - loss: 0.0735 - accuracy: 0.9833 - val_loss: 0.0867 - val_accuracy: 0.9792\n",
      "Epoch 21/1000\n",
      "52/77 [===================>..........] - ETA: 0s - loss: 0.0712 - accuracy: 0.9850\b\b\b\b\b\b\b\b\b\b\b\b\b\b\b\b\b\b\b\b\b\b\b\b\b\b\b\b\b\b\b\b\b\b\b\b\b\b\b\b\b\b\b\b\b\b\b\b\b\b\b\b\b\b\b\b\b\b\b\b\b\b\b\b\b\b\b\b\b\b\b\b\b\b\b\b\b\b\b\b\b\b\n",
      "Epoch 21: val_loss improved from 0.08670 to 0.08653, saving model to model/keypoint_classifier\\keypoint_classifier_TEST.hdf5\n",
      "77/77 [==============================] - 0s 2ms/step - loss: 0.0696 - accuracy: 0.9851 - val_loss: 0.0865 - val_accuracy: 0.9786\n",
      "Epoch 22/1000\n",
      "54/77 [====================>.........] - ETA: 0s - loss: 0.0669 - accuracy: 0.9821\b\b\b\b\b\b\b\b\b\b\b\b\b\b\b\b\b\b\b\b\b\b\b\b\b\b\b\b\b\b\b\b\b\b\b\b\b\b\b\b\b\b\b\b\b\b\b\b\b\b\b\b\b\b\b\b\b\b\b\b\b\b\b\b\b\b\b\b\b\b\b\b\b\b\b\b\b\b\b\b\b\b\n",
      "Epoch 22: val_loss improved from 0.08653 to 0.08012, saving model to model/keypoint_classifier\\keypoint_classifier_TEST.hdf5\n",
      "77/77 [==============================] - 0s 2ms/step - loss: 0.0684 - accuracy: 0.9815 - val_loss: 0.0801 - val_accuracy: 0.9786\n",
      "Epoch 23/1000\n",
      "47/77 [=================>............] - ETA: 0s - loss: 0.0612 - accuracy: 0.9844\b\b\b\b\b\b\b\b\b\b\b\b\b\b\b\b\b\b\b\b\b\b\b\b\b\b\b\b\b\b\b\b\b\b\b\b\b\b\b\b\b\b\b\b\b\b\b\b\b\b\b\b\b\b\b\b\b\b\b\b\b\b\b\b\b\b\b\b\b\b\b\b\b\b\b\b\b\b\b\b\b\b\n",
      "Epoch 23: val_loss improved from 0.08012 to 0.07710, saving model to model/keypoint_classifier\\keypoint_classifier_TEST.hdf5\n",
      "77/77 [==============================] - 0s 2ms/step - loss: 0.0647 - accuracy: 0.9839 - val_loss: 0.0771 - val_accuracy: 0.9792\n",
      "Epoch 24/1000\n",
      "51/77 [==================>...........] - ETA: 0s - loss: 0.0592 - accuracy: 0.9856\b\b\b\b\b\b\b\b\b\b\b\b\b\b\b\b\b\b\b\b\b\b\b\b\b\b\b\b\b\b\b\b\b\b\b\b\b\b\b\b\b\b\b\b\b\b\b\b\b\b\b\b\b\b\b\b\b\b\b\b\b\b\b\b\b\b\b\b\b\b\b\b\b\b\b\b\b\b\b\b\b\b\n",
      "Epoch 24: val_loss improved from 0.07710 to 0.07600, saving model to model/keypoint_classifier\\keypoint_classifier_TEST.hdf5\n",
      "77/77 [==============================] - 0s 2ms/step - loss: 0.0615 - accuracy: 0.9833 - val_loss: 0.0760 - val_accuracy: 0.9817\n",
      "Epoch 25/1000\n",
      "57/77 [=====================>........] - ETA: 0s - loss: 0.0583 - accuracy: 0.9844\b\b\b\b\b\b\b\b\b\b\b\b\b\b\b\b\b\b\b\b\b\b\b\b\b\b\b\b\b\b\b\b\b\b\b\b\b\b\b\b\b\b\b\b\b\b\b\b\b\b\b\b\b\b\b\b\b\b\b\b\b\b\b\b\b\b\b\b\b\b\b\b\b\b\b\b\b\b\b\b\b\b\n",
      "Epoch 25: val_loss improved from 0.07600 to 0.07469, saving model to model/keypoint_classifier\\keypoint_classifier_TEST.hdf5\n",
      "77/77 [==============================] - 0s 2ms/step - loss: 0.0578 - accuracy: 0.9841 - val_loss: 0.0747 - val_accuracy: 0.9799\n",
      "Epoch 26/1000\n",
      "53/77 [===================>..........] - ETA: 0s - loss: 0.0538 - accuracy: 0.9864\b\b\b\b\b\b\b\b\b\b\b\b\b\b\b\b\b\b\b\b\b\b\b\b\b\b\b\b\b\b\b\b\b\b\b\b\b\b\b\b\b\b\b\b\b\b\b\b\b\b\b\b\b\b\b\b\b\b\b\b\b\b\b\b\b\b\b\b\b\b\b\b\b\b\b\b\b\b\b\b\b\b\n",
      "Epoch 26: val_loss improved from 0.07469 to 0.07000, saving model to model/keypoint_classifier\\keypoint_classifier_TEST.hdf5\n",
      "77/77 [==============================] - 0s 2ms/step - loss: 0.0548 - accuracy: 0.9862 - val_loss: 0.0700 - val_accuracy: 0.9823\n",
      "Epoch 27/1000\n",
      "55/77 [====================>.........] - ETA: 0s - loss: 0.0533 - accuracy: 0.9855\b\b\b\b\b\b\b\b\b\b\b\b\b\b\b\b\b\b\b\b\b\b\b\b\b\b\b\b\b\b\b\b\b\b\b\b\b\b\b\b\b\b\b\b\b\b\b\b\b\b\b\b\b\b\b\b\b\b\b\b\b\b\b\b\b\b\b\b\b\b\b\b\b\b\b\b\b\b\b\b\b\b\n",
      "Epoch 27: val_loss did not improve from 0.07000\n",
      "77/77 [==============================] - 0s 2ms/step - loss: 0.0519 - accuracy: 0.9864 - val_loss: 0.0752 - val_accuracy: 0.9805\n",
      "Epoch 28/1000\n",
      "53/77 [===================>..........] - ETA: 0s - loss: 0.0582 - accuracy: 0.9829\b\b\b\b\b\b\b\b\b\b\b\b\b\b\b\b\b\b\b\b\b\b\b\b\b\b\b\b\b\b\b\b\b\b\b\b\b\b\b\b\b\b\b\b\b\b\b\b\b\b\b\b\b\b\b\b\b\b\b\b\b\b\b\b\b\b\b\b\b\b\b\b\b\b\b\b\b\b\b\b\b\b\n",
      "Epoch 28: val_loss improved from 0.07000 to 0.06672, saving model to model/keypoint_classifier\\keypoint_classifier_TEST.hdf5\n",
      "77/77 [==============================] - 0s 2ms/step - loss: 0.0540 - accuracy: 0.9847 - val_loss: 0.0667 - val_accuracy: 0.9823\n",
      "Epoch 29/1000\n",
      "55/77 [====================>.........] - ETA: 0s - loss: 0.0536 - accuracy: 0.9847\b\b\b\b\b\b\b\b\b\b\b\b\b\b\b\b\b\b\b\b\b\b\b\b\b\b\b\b\b\b\b\b\b\b\b\b\b\b\b\b\b\b\b\b\b\b\b\b\b\b\b\b\b\b\b\b\b\b\b\b\b\b\b\b\b\b\b\b\b\b\b\b\b\b\b\b\b\b\b\b\b\b\n",
      "Epoch 29: val_loss did not improve from 0.06672\n",
      "77/77 [==============================] - 0s 1ms/step - loss: 0.0502 - accuracy: 0.9864 - val_loss: 0.0669 - val_accuracy: 0.9841\n",
      "Epoch 30/1000\n",
      "56/77 [====================>.........] - ETA: 0s - loss: 0.0430 - accuracy: 0.9872\b\b\b\b\b\b\b\b\b\b\b\b\b\b\b\b\b\b\b\b\b\b\b\b\b\b\b\b\b\b\b\b\b\b\b\b\b\b\b\b\b\b\b\b\b\b\b\b\b\b\b\b\b\b\b\b\b\b\b\b\b\b\b\b\b\b\b\b\b\b\b\b\b\b\b\b\b\b\b\b\b\b\n",
      "Epoch 30: val_loss improved from 0.06672 to 0.06216, saving model to model/keypoint_classifier\\keypoint_classifier_TEST.hdf5\n",
      "77/77 [==============================] - 0s 2ms/step - loss: 0.0443 - accuracy: 0.9864 - val_loss: 0.0622 - val_accuracy: 0.9829\n",
      "Epoch 31/1000\n",
      "55/77 [====================>.........] - ETA: 0s - loss: 0.0427 - accuracy: 0.9881\b\b\b\b\b\b\b\b\b\b\b\b\b\b\b\b\b\b\b\b\b\b\b\b\b\b\b\b\b\b\b\b\b\b\b\b\b\b\b\b\b\b\b\b\b\b\b\b\b\b\b\b\b\b\b\b\b\b\b\b\b\b\b\b\b\b\b\b\b\b\b\b\b\b\b\b\b\b\b\b\b\b\n",
      "Epoch 31: val_loss did not improve from 0.06216\n",
      "77/77 [==============================] - 0s 1ms/step - loss: 0.0419 - accuracy: 0.9886 - val_loss: 0.0628 - val_accuracy: 0.9847\n",
      "Epoch 32/1000\n",
      "56/77 [====================>.........] - ETA: 0s - loss: 0.0450 - accuracy: 0.9855\b\b\b\b\b\b\b\b\b\b\b\b\b\b\b\b\b\b\b\b\b\b\b\b\b\b\b\b\b\b\b\b\b\b\b\b\b\b\b\b\b\b\b\b\b\b\b\b\b\b\b\b\b\b\b\b\b\b\b\b\b\b\b\b\b\b\b\b\b\b\b\b\b\b\b\b\b\b\b\b\b\b\n",
      "Epoch 32: val_loss did not improve from 0.06216\n",
      "77/77 [==============================] - 0s 1ms/step - loss: 0.0427 - accuracy: 0.9872 - val_loss: 0.0681 - val_accuracy: 0.9811\n",
      "Epoch 33/1000\n",
      "47/77 [=================>............] - ETA: 0s - loss: 0.0382 - accuracy: 0.9904\b\b\b\b\b\b\b\b\b\b\b\b\b\b\b\b\b\b\b\b\b\b\b\b\b\b\b\b\b\b\b\b\b\b\b\b\b\b\b\b\b\b\b\b\b\b\b\b\b\b\b\b\b\b\b\b\b\b\b\b\b\b\b\b\b\b\b\b\b\b\b\b\b\b\b\b\b\b\b\b\b\b\n",
      "Epoch 33: val_loss did not improve from 0.06216\n",
      "77/77 [==============================] - 0s 1ms/step - loss: 0.0399 - accuracy: 0.9888 - val_loss: 0.0628 - val_accuracy: 0.9835\n",
      "Epoch 34/1000\n",
      "56/77 [====================>.........] - ETA: 0s - loss: 0.0363 - accuracy: 0.9894\b\b\b\b\b\b\b\b\b\b\b\b\b\b\b\b\b\b\b\b\b\b\b\b\b\b\b\b\b\b\b\b\b\b\b\b\b\b\b\b\b\b\b\b\b\b\b\b\b\b\b\b\b\b\b\b\b\b\b\b\b\b\b\b\b\b\b\b\b\b\b\b\b\b\b\b\b\b\b\b\b\b\n",
      "Epoch 34: val_loss did not improve from 0.06216\n",
      "77/77 [==============================] - 0s 1ms/step - loss: 0.0383 - accuracy: 0.9892 - val_loss: 0.0656 - val_accuracy: 0.9805\n",
      "Epoch 35/1000\n",
      "49/77 [==================>...........] - ETA: 0s - loss: 0.0368 - accuracy: 0.9869\b\b\b\b\b\b\b\b\b\b\b\b\b\b\b\b\b\b\b\b\b\b\b\b\b\b\b\b\b\b\b\b\b\b\b\b\b\b\b\b\b\b\b\b\b\b\b\b\b\b\b\b\b\b\b\b\b\b\b\b\b\b\b\b\b\b\b\b\b\b\b\b\b\b\b\b\b\b\b\b\b\b\n",
      "Epoch 35: val_loss did not improve from 0.06216\n",
      "77/77 [==============================] - 0s 1ms/step - loss: 0.0366 - accuracy: 0.9886 - val_loss: 0.0622 - val_accuracy: 0.9823\n",
      "Epoch 36/1000\n",
      "56/77 [====================>.........] - ETA: 0s - loss: 0.0348 - accuracy: 0.9894\b\b\b\b\b\b\b\b\b\b\b\b\b\b\b\b\b\b\b\b\b\b\b\b\b\b\b\b\b\b\b\b\b\b\b\b\b\b\b\b\b\b\b\b\b\b\b\b\b\b\b\b\b\b\b\b\b\b\b\b\b\b\b\b\b\b\b\b\b\b\b\b\b\b\b\b\b\b\b\b\b\b\n",
      "Epoch 36: val_loss improved from 0.06216 to 0.05727, saving model to model/keypoint_classifier\\keypoint_classifier_TEST.hdf5\n",
      "77/77 [==============================] - 0s 2ms/step - loss: 0.0347 - accuracy: 0.9888 - val_loss: 0.0573 - val_accuracy: 0.9860\n",
      "Epoch 37/1000\n",
      "53/77 [===================>..........] - ETA: 0s - loss: 0.0358 - accuracy: 0.9906\b\b\b\b\b\b\b\b\b\b\b\b\b\b\b\b\b\b\b\b\b\b\b\b\b\b\b\b\b\b\b\b\b\b\b\b\b\b\b\b\b\b\b\b\b\b\b\b\b\b\b\b\b\b\b\b\b\b\b\b\b\b\b\b\b\b\b\b\b\b\b\b\b\b\b\b\b\b\b\b\b\b\n",
      "Epoch 37: val_loss improved from 0.05727 to 0.05403, saving model to model/keypoint_classifier\\keypoint_classifier_TEST.hdf5\n",
      "77/77 [==============================] - 0s 2ms/step - loss: 0.0346 - accuracy: 0.9896 - val_loss: 0.0540 - val_accuracy: 0.9841\n",
      "Epoch 38/1000\n",
      "56/77 [====================>.........] - ETA: 0s - loss: 0.0321 - accuracy: 0.9902\b\b\b\b\b\b\b\b\b\b\b\b\b\b\b\b\b\b\b\b\b\b\b\b\b\b\b\b\b\b\b\b\b\b\b\b\b\b\b\b\b\b\b\b\b\b\b\b\b\b\b\b\b\b\b\b\b\b\b\b\b\b\b\b\b\b\b\b\b\b\b\b\b\b\b\b\b\b\b\b\b\b\n",
      "Epoch 38: val_loss did not improve from 0.05403\n",
      "77/77 [==============================] - 0s 1ms/step - loss: 0.0333 - accuracy: 0.9900 - val_loss: 0.0540 - val_accuracy: 0.9853\n",
      "Epoch 39/1000\n",
      "56/77 [====================>.........] - ETA: 0s - loss: 0.0315 - accuracy: 0.9922\b\b\b\b\b\b\b\b\b\b\b\b\b\b\b\b\b\b\b\b\b\b\b\b\b\b\b\b\b\b\b\b\b\b\b\b\b\b\b\b\b\b\b\b\b\b\b\b\b\b\b\b\b\b\b\b\b\b\b\b\b\b\b\b\b\b\b\b\b\b\b\b\b\b\b\b\b\b\b\b\b\b\n",
      "Epoch 39: val_loss did not improve from 0.05403\n",
      "77/77 [==============================] - 0s 1ms/step - loss: 0.0306 - accuracy: 0.9923 - val_loss: 0.0583 - val_accuracy: 0.9823\n",
      "Epoch 40/1000\n",
      "56/77 [====================>.........] - ETA: 0s - loss: 0.0325 - accuracy: 0.9900\b\b\b\b\b\b\b\b\b\b\b\b\b\b\b\b\b\b\b\b\b\b\b\b\b\b\b\b\b\b\b\b\b\b\b\b\b\b\b\b\b\b\b\b\b\b\b\b\b\b\b\b\b\b\b\b\b\b\b\b\b\b\b\b\b\b\b\b\b\b\b\b\b\b\b\b\b\b\b\b\b\b\n",
      "Epoch 40: val_loss improved from 0.05403 to 0.05283, saving model to model/keypoint_classifier\\keypoint_classifier_TEST.hdf5\n",
      "77/77 [==============================] - 0s 2ms/step - loss: 0.0311 - accuracy: 0.9915 - val_loss: 0.0528 - val_accuracy: 0.9866\n",
      "Epoch 41/1000\n",
      "56/77 [====================>.........] - ETA: 0s - loss: 0.0291 - accuracy: 0.9927\b\b\b\b\b\b\b\b\b\b\b\b\b\b\b\b\b\b\b\b\b\b\b\b\b\b\b\b\b\b\b\b\b\b\b\b\b\b\b\b\b\b\b\b\b\b\b\b\b\b\b\b\b\b\b\b\b\b\b\b\b\b\b\b\b\b\b\b\b\b\b\b\b\b\b\b\b\b\b\b\b\b\n",
      "Epoch 41: val_loss did not improve from 0.05283\n",
      "77/77 [==============================] - 0s 1ms/step - loss: 0.0303 - accuracy: 0.9919 - val_loss: 0.0585 - val_accuracy: 0.9841\n",
      "Epoch 42/1000\n",
      "56/77 [====================>.........] - ETA: 0s - loss: 0.0302 - accuracy: 0.9927\b\b\b\b\b\b\b\b\b\b\b\b\b\b\b\b\b\b\b\b\b\b\b\b\b\b\b\b\b\b\b\b\b\b\b\b\b\b\b\b\b\b\b\b\b\b\b\b\b\b\b\b\b\b\b\b\b\b\b\b\b\b\b\b\b\b\b\b\b\b\b\b\b\b\b\b\b\b\b\b\b\b\n",
      "Epoch 42: val_loss improved from 0.05283 to 0.05003, saving model to model/keypoint_classifier\\keypoint_classifier_TEST.hdf5\n",
      "77/77 [==============================] - 0s 2ms/step - loss: 0.0296 - accuracy: 0.9917 - val_loss: 0.0500 - val_accuracy: 0.9866\n",
      "Epoch 43/1000\n",
      "55/77 [====================>.........] - ETA: 0s - loss: 0.0277 - accuracy: 0.9920\b\b\b\b\b\b\b\b\b\b\b\b\b\b\b\b\b\b\b\b\b\b\b\b\b\b\b\b\b\b\b\b\b\b\b\b\b\b\b\b\b\b\b\b\b\b\b\b\b\b\b\b\b\b\b\b\b\b\b\b\b\b\b\b\b\b\b\b\b\b\b\b\b\b\b\b\b\b\b\b\b\b\n",
      "Epoch 43: val_loss improved from 0.05003 to 0.04996, saving model to model/keypoint_classifier\\keypoint_classifier_TEST.hdf5\n",
      "77/77 [==============================] - 0s 2ms/step - loss: 0.0271 - accuracy: 0.9917 - val_loss: 0.0500 - val_accuracy: 0.9878\n",
      "Epoch 44/1000\n",
      "56/77 [====================>.........] - ETA: 0s - loss: 0.0311 - accuracy: 0.9914\b\b\b\b\b\b\b\b\b\b\b\b\b\b\b\b\b\b\b\b\b\b\b\b\b\b\b\b\b\b\b\b\b\b\b\b\b\b\b\b\b\b\b\b\b\b\b\b\b\b\b\b\b\b\b\b\b\b\b\b\b\b\b\b\b\b\b\b\b\b\b\b\b\b\b\b\b\b\b\b\b\b\n",
      "Epoch 44: val_loss did not improve from 0.04996\n",
      "77/77 [==============================] - 0s 1ms/step - loss: 0.0283 - accuracy: 0.9923 - val_loss: 0.0516 - val_accuracy: 0.9872\n",
      "Epoch 45/1000\n",
      "55/77 [====================>.........] - ETA: 0s - loss: 0.0267 - accuracy: 0.9909\b\b\b\b\b\b\b\b\b\b\b\b\b\b\b\b\b\b\b\b\b\b\b\b\b\b\b\b\b\b\b\b\b\b\b\b\b\b\b\b\b\b\b\b\b\b\b\b\b\b\b\b\b\b\b\b\b\b\b\b\b\b\b\b\b\b\b\b\b\b\b\b\b\b\b\b\b\b\b\b\b\b\n",
      "Epoch 45: val_loss did not improve from 0.04996\n",
      "77/77 [==============================] - 0s 1ms/step - loss: 0.0262 - accuracy: 0.9915 - val_loss: 0.0564 - val_accuracy: 0.9860\n",
      "Epoch 46/1000\n",
      "54/77 [====================>.........] - ETA: 0s - loss: 0.0218 - accuracy: 0.9933\b\b\b\b\b\b\b\b\b\b\b\b\b\b\b\b\b\b\b\b\b\b\b\b\b\b\b\b\b\b\b\b\b\b\b\b\b\b\b\b\b\b\b\b\b\b\b\b\b\b\b\b\b\b\b\b\b\b\b\b\b\b\b\b\b\b\b\b\b\b\b\b\b\b\b\b\b\b\b\b\b\b\n",
      "Epoch 46: val_loss improved from 0.04996 to 0.04951, saving model to model/keypoint_classifier\\keypoint_classifier_TEST.hdf5\n",
      "77/77 [==============================] - 0s 2ms/step - loss: 0.0244 - accuracy: 0.9925 - val_loss: 0.0495 - val_accuracy: 0.9908\n",
      "Epoch 47/1000\n",
      "53/77 [===================>..........] - ETA: 0s - loss: 0.0248 - accuracy: 0.9929\b\b\b\b\b\b\b\b\b\b\b\b\b\b\b\b\b\b\b\b\b\b\b\b\b\b\b\b\b\b\b\b\b\b\b\b\b\b\b\b\b\b\b\b\b\b\b\b\b\b\b\b\b\b\b\b\b\b\b\b\b\b\b\b\b\b\b\b\b\b\b\b\b\b\b\b\b\b\b\b\b\b\n",
      "Epoch 47: val_loss did not improve from 0.04951\n",
      "77/77 [==============================] - 0s 1ms/step - loss: 0.0263 - accuracy: 0.9925 - val_loss: 0.0572 - val_accuracy: 0.9847\n",
      "Epoch 48/1000\n",
      "54/77 [====================>.........] - ETA: 0s - loss: 0.0260 - accuracy: 0.9928\b\b\b\b\b\b\b\b\b\b\b\b\b\b\b\b\b\b\b\b\b\b\b\b\b\b\b\b\b\b\b\b\b\b\b\b\b\b\b\b\b\b\b\b\b\b\b\b\b\b\b\b\b\b\b\b\b\b\b\b\b\b\b\b\b\b\b\b\b\b\b\b\b\b\b\b\b\b\b\b\b\b\n",
      "Epoch 48: val_loss improved from 0.04951 to 0.04799, saving model to model/keypoint_classifier\\keypoint_classifier_TEST.hdf5\n",
      "77/77 [==============================] - 0s 2ms/step - loss: 0.0256 - accuracy: 0.9923 - val_loss: 0.0480 - val_accuracy: 0.9878\n",
      "Epoch 49/1000\n",
      "56/77 [====================>.........] - ETA: 0s - loss: 0.0255 - accuracy: 0.9927\b\b\b\b\b\b\b\b\b\b\b\b\b\b\b\b\b\b\b\b\b\b\b\b\b\b\b\b\b\b\b\b\b\b\b\b\b\b\b\b\b\b\b\b\b\b\b\b\b\b\b\b\b\b\b\b\b\b\b\b\b\b\b\b\b\b\b\b\b\b\b\b\b\b\b\b\b\b\b\b\b\b\n",
      "Epoch 49: val_loss did not improve from 0.04799\n",
      "77/77 [==============================] - 0s 1ms/step - loss: 0.0241 - accuracy: 0.9927 - val_loss: 0.0510 - val_accuracy: 0.9866\n",
      "Epoch 50/1000\n",
      "52/77 [===================>..........] - ETA: 0s - loss: 0.0230 - accuracy: 0.9922\b\b\b\b\b\b\b\b\b\b\b\b\b\b\b\b\b\b\b\b\b\b\b\b\b\b\b\b\b\b\b\b\b\b\b\b\b\b\b\b\b\b\b\b\b\b\b\b\b\b\b\b\b\b\b\b\b\b\b\b\b\b\b\b\b\b\b\b\b\b\b\b\b\b\b\b\b\b\b\b\b\b\n",
      "Epoch 50: val_loss did not improve from 0.04799\n",
      "77/77 [==============================] - 0s 1ms/step - loss: 0.0225 - accuracy: 0.9923 - val_loss: 0.0490 - val_accuracy: 0.9908\n",
      "Epoch 51/1000\n",
      "51/77 [==================>...........] - ETA: 0s - loss: 0.0232 - accuracy: 0.9936\b\b\b\b\b\b\b\b\b\b\b\b\b\b\b\b\b\b\b\b\b\b\b\b\b\b\b\b\b\b\b\b\b\b\b\b\b\b\b\b\b\b\b\b\b\b\b\b\b\b\b\b\b\b\b\b\b\b\b\b\b\b\b\b\b\b\b\b\b\b\b\b\b\b\b\b\b\b\b\b\b\b\n",
      "Epoch 51: val_loss improved from 0.04799 to 0.04483, saving model to model/keypoint_classifier\\keypoint_classifier_TEST.hdf5\n",
      "77/77 [==============================] - 0s 2ms/step - loss: 0.0231 - accuracy: 0.9937 - val_loss: 0.0448 - val_accuracy: 0.9921\n",
      "Epoch 52/1000\n",
      "50/77 [==================>...........] - ETA: 0s - loss: 0.0214 - accuracy: 0.9941\b\b\b\b\b\b\b\b\b\b\b\b\b\b\b\b\b\b\b\b\b\b\b\b\b\b\b\b\b\b\b\b\b\b\b\b\b\b\b\b\b\b\b\b\b\b\b\b\b\b\b\b\b\b\b\b\b\b\b\b\b\b\b\b\b\b\b\b\b\b\b\b\b\b\b\b\b\b\b\b\b\b\n",
      "Epoch 52: val_loss improved from 0.04483 to 0.04216, saving model to model/keypoint_classifier\\keypoint_classifier_TEST.hdf5\n",
      "77/77 [==============================] - 0s 2ms/step - loss: 0.0214 - accuracy: 0.9933 - val_loss: 0.0422 - val_accuracy: 0.9902\n",
      "Epoch 53/1000\n",
      "49/77 [==================>...........] - ETA: 0s - loss: 0.0257 - accuracy: 0.9914\b\b\b\b\b\b\b\b\b\b\b\b\b\b\b\b\b\b\b\b\b\b\b\b\b\b\b\b\b\b\b\b\b\b\b\b\b\b\b\b\b\b\b\b\b\b\b\b\b\b\b\b\b\b\b\b\b\b\b\b\b\b\b\b\b\b\b\b\b\b\b\b\b\b\b\b\b\b\b\b\b\b\n",
      "Epoch 53: val_loss did not improve from 0.04216\n",
      "77/77 [==============================] - 0s 1ms/step - loss: 0.0233 - accuracy: 0.9927 - val_loss: 0.0460 - val_accuracy: 0.9878\n",
      "Epoch 54/1000\n",
      "55/77 [====================>.........] - ETA: 0s - loss: 0.0191 - accuracy: 0.9946\b\b\b\b\b\b\b\b\b\b\b\b\b\b\b\b\b\b\b\b\b\b\b\b\b\b\b\b\b\b\b\b\b\b\b\b\b\b\b\b\b\b\b\b\b\b\b\b\b\b\b\b\b\b\b\b\b\b\b\b\b\b\b\b\b\b\b\b\b\b\b\b\b\b\b\b\b\b\b\b\b\b\n",
      "Epoch 54: val_loss did not improve from 0.04216\n",
      "77/77 [==============================] - 0s 1ms/step - loss: 0.0218 - accuracy: 0.9941 - val_loss: 0.0446 - val_accuracy: 0.9890\n",
      "Epoch 55/1000\n",
      "55/77 [====================>.........] - ETA: 0s - loss: 0.0205 - accuracy: 0.9943\b\b\b\b\b\b\b\b\b\b\b\b\b\b\b\b\b\b\b\b\b\b\b\b\b\b\b\b\b\b\b\b\b\b\b\b\b\b\b\b\b\b\b\b\b\b\b\b\b\b\b\b\b\b\b\b\b\b\b\b\b\b\b\b\b\b\b\b\b\b\b\b\b\b\b\b\b\b\b\b\b\b\n",
      "Epoch 55: val_loss did not improve from 0.04216\n",
      "77/77 [==============================] - 0s 1ms/step - loss: 0.0188 - accuracy: 0.9947 - val_loss: 0.0425 - val_accuracy: 0.9890\n",
      "Epoch 56/1000\n",
      "55/77 [====================>.........] - ETA: 0s - loss: 0.0184 - accuracy: 0.9943\b\b\b\b\b\b\b\b\b\b\b\b\b\b\b\b\b\b\b\b\b\b\b\b\b\b\b\b\b\b\b\b\b\b\b\b\b\b\b\b\b\b\b\b\b\b\b\b\b\b\b\b\b\b\b\b\b\b\b\b\b\b\b\b\b\b\b\b\b\b\b\b\b\b\b\b\b\b\b\b\b\b\n",
      "Epoch 56: val_loss improved from 0.04216 to 0.04201, saving model to model/keypoint_classifier\\keypoint_classifier_TEST.hdf5\n",
      "77/77 [==============================] - 0s 2ms/step - loss: 0.0190 - accuracy: 0.9945 - val_loss: 0.0420 - val_accuracy: 0.9896\n",
      "Epoch 57/1000\n",
      "52/77 [===================>..........] - ETA: 0s - loss: 0.0187 - accuracy: 0.9949\b\b\b\b\b\b\b\b\b\b\b\b\b\b\b\b\b\b\b\b\b\b\b\b\b\b\b\b\b\b\b\b\b\b\b\b\b\b\b\b\b\b\b\b\b\b\b\b\b\b\b\b\b\b\b\b\b\b\b\b\b\b\b\b\b\b\b\b\b\b\b\b\b\b\b\b\b\b\b\b\b\b\n",
      "Epoch 57: val_loss did not improve from 0.04201\n",
      "77/77 [==============================] - 0s 2ms/step - loss: 0.0191 - accuracy: 0.9949 - val_loss: 0.0474 - val_accuracy: 0.9878\n",
      "Epoch 58/1000\n",
      "45/77 [================>.............] - ETA: 0s - loss: 0.0219 - accuracy: 0.9927\b\b\b\b\b\b\b\b\b\b\b\b\b\b\b\b\b\b\b\b\b\b\b\b\b\b\b\b\b\b\b\b\b\b\b\b\b\b\b\b\b\b\b\b\b\b\b\b\b\b\b\b\b\b\b\b\b\b\b\b\b\b\b\b\b\b\b\b\b\b\b\b\b\b\b\b\b\b\b\b\b\b\n",
      "Epoch 58: val_loss did not improve from 0.04201\n",
      "77/77 [==============================] - 0s 2ms/step - loss: 0.0198 - accuracy: 0.9943 - val_loss: 0.0436 - val_accuracy: 0.9921\n",
      "Epoch 59/1000\n",
      "56/77 [====================>.........] - ETA: 0s - loss: 0.0179 - accuracy: 0.9953\b\b\b\b\b\b\b\b\b\b\b\b\b\b\b\b\b\b\b\b\b\b\b\b\b\b\b\b\b\b\b\b\b\b\b\b\b\b\b\b\b\b\b\b\b\b\b\b\b\b\b\b\b\b\b\b\b\b\b\b\b\b\b\b\b\b\b\b\b\b\b\b\b\b\b\b\b\b\b\b\b\b\n",
      "Epoch 59: val_loss did not improve from 0.04201\n",
      "77/77 [==============================] - 0s 1ms/step - loss: 0.0177 - accuracy: 0.9951 - val_loss: 0.0439 - val_accuracy: 0.9915\n",
      "Epoch 60/1000\n",
      "55/77 [====================>.........] - ETA: 0s - loss: 0.0170 - accuracy: 0.9946\b\b\b\b\b\b\b\b\b\b\b\b\b\b\b\b\b\b\b\b\b\b\b\b\b\b\b\b\b\b\b\b\b\b\b\b\b\b\b\b\b\b\b\b\b\b\b\b\b\b\b\b\b\b\b\b\b\b\b\b\b\b\b\b\b\b\b\b\b\b\b\b\b\b\b\b\b\b\b\b\b\b\n",
      "Epoch 60: val_loss did not improve from 0.04201\n",
      "77/77 [==============================] - 0s 1ms/step - loss: 0.0177 - accuracy: 0.9943 - val_loss: 0.0455 - val_accuracy: 0.9884\n",
      "Epoch 61/1000\n",
      "50/77 [==================>...........] - ETA: 0s - loss: 0.0184 - accuracy: 0.9937\b\b\b\b\b\b\b\b\b\b\b\b\b\b\b\b\b\b\b\b\b\b\b\b\b\b\b\b\b\b\b\b\b\b\b\b\b\b\b\b\b\b\b\b\b\b\b\b\b\b\b\b\b\b\b\b\b\b\b\b\b\b\b\b\b\b\b\b\b\b\b\b\b\b\b\b\b\b\b\b\b\b\n",
      "Epoch 61: val_loss did not improve from 0.04201\n",
      "77/77 [==============================] - 0s 1ms/step - loss: 0.0176 - accuracy: 0.9943 - val_loss: 0.0444 - val_accuracy: 0.9933\n",
      "Epoch 62/1000\n",
      "56/77 [====================>.........] - ETA: 0s - loss: 0.0159 - accuracy: 0.9947\b\b\b\b\b\b\b\b\b\b\b\b\b\b\b\b\b\b\b\b\b\b\b\b\b\b\b\b\b\b\b\b\b\b\b\b\b\b\b\b\b\b\b\b\b\b\b\b\b\b\b\b\b\b\b\b\b\b\b\b\b\b\b\b\b\b\b\b\b\b\b\b\b\b\b\b\b\b\b\b\b\b\n",
      "Epoch 62: val_loss did not improve from 0.04201\n",
      "77/77 [==============================] - 0s 1ms/step - loss: 0.0167 - accuracy: 0.9945 - val_loss: 0.0489 - val_accuracy: 0.9902\n",
      "Epoch 63/1000\n",
      "54/77 [====================>.........] - ETA: 0s - loss: 0.0237 - accuracy: 0.9919\b\b\b\b\b\b\b\b\b\b\b\b\b\b\b\b\b\b\b\b\b\b\b\b\b\b\b\b\b\b\b\b\b\b\b\b\b\b\b\b\b\b\b\b\b\b\b\b\b\b\b\b\b\b\b\b\b\b\b\b\b\b\b\b\b\b\b\b\b\b\b\b\b\b\b\b\b\b\b\b\b\b\n",
      "Epoch 63: val_loss did not improve from 0.04201\n",
      "77/77 [==============================] - 0s 1ms/step - loss: 0.0229 - accuracy: 0.9923 - val_loss: 0.0429 - val_accuracy: 0.9896\n",
      "Epoch 64/1000\n",
      "56/77 [====================>.........] - ETA: 0s - loss: 0.0165 - accuracy: 0.9955\b\b\b\b\b\b\b\b\b\b\b\b\b\b\b\b\b\b\b\b\b\b\b\b\b\b\b\b\b\b\b\b\b\b\b\b\b\b\b\b\b\b\b\b\b\b\b\b\b\b\b\b\b\b\b\b\b\b\b\b\b\b\b\b\b\b\b\b\b\b\b\b\b\b\b\b\b\b\b\b\b\b\n",
      "Epoch 64: val_loss improved from 0.04201 to 0.04052, saving model to model/keypoint_classifier\\keypoint_classifier_TEST.hdf5\n",
      "77/77 [==============================] - 0s 2ms/step - loss: 0.0166 - accuracy: 0.9955 - val_loss: 0.0405 - val_accuracy: 0.9890\n",
      "Epoch 65/1000\n",
      "53/77 [===================>..........] - ETA: 0s - loss: 0.0157 - accuracy: 0.9953\b\b\b\b\b\b\b\b\b\b\b\b\b\b\b\b\b\b\b\b\b\b\b\b\b\b\b\b\b\b\b\b\b\b\b\b\b\b\b\b\b\b\b\b\b\b\b\b\b\b\b\b\b\b\b\b\b\b\b\b\b\b\b\b\b\b\b\b\b\b\b\b\b\b\b\b\b\b\b\b\b\b\n",
      "Epoch 65: val_loss improved from 0.04052 to 0.03917, saving model to model/keypoint_classifier\\keypoint_classifier_TEST.hdf5\n",
      "77/77 [==============================] - 0s 2ms/step - loss: 0.0145 - accuracy: 0.9959 - val_loss: 0.0392 - val_accuracy: 0.9902\n",
      "Epoch 66/1000\n",
      "46/77 [================>.............] - ETA: 0s - loss: 0.0147 - accuracy: 0.9966\b\b\b\b\b\b\b\b\b\b\b\b\b\b\b\b\b\b\b\b\b\b\b\b\b\b\b\b\b\b\b\b\b\b\b\b\b\b\b\b\b\b\b\b\b\b\b\b\b\b\b\b\b\b\b\b\b\b\b\b\b\b\b\b\b\b\b\b\b\b\b\b\b\b\b\b\b\b\b\b\b\b\n",
      "Epoch 66: val_loss did not improve from 0.03917\n",
      "77/77 [==============================] - 0s 2ms/step - loss: 0.0154 - accuracy: 0.9955 - val_loss: 0.0455 - val_accuracy: 0.9908\n",
      "Epoch 67/1000\n",
      "57/77 [=====================>........] - ETA: 0s - loss: 0.0195 - accuracy: 0.9937\b\b\b\b\b\b\b\b\b\b\b\b\b\b\b\b\b\b\b\b\b\b\b\b\b\b\b\b\b\b\b\b\b\b\b\b\b\b\b\b\b\b\b\b\b\b\b\b\b\b\b\b\b\b\b\b\b\b\b\b\b\b\b\b\b\b\b\b\b\b\b\b\b\b\b\b\b\b\b\b\b\b\n",
      "Epoch 67: val_loss did not improve from 0.03917\n",
      "77/77 [==============================] - 0s 1ms/step - loss: 0.0192 - accuracy: 0.9937 - val_loss: 0.0399 - val_accuracy: 0.9908\n",
      "Epoch 68/1000\n",
      "57/77 [=====================>........] - ETA: 0s - loss: 0.0143 - accuracy: 0.9956\b\b\b\b\b\b\b\b\b\b\b\b\b\b\b\b\b\b\b\b\b\b\b\b\b\b\b\b\b\b\b\b\b\b\b\b\b\b\b\b\b\b\b\b\b\b\b\b\b\b\b\b\b\b\b\b\b\b\b\b\b\b\b\b\b\b\b\b\b\b\b\b\b\b\b\b\b\b\b\b\b\b\n",
      "Epoch 68: val_loss did not improve from 0.03917\n",
      "77/77 [==============================] - 0s 1ms/step - loss: 0.0153 - accuracy: 0.9953 - val_loss: 0.0484 - val_accuracy: 0.9896\n",
      "Epoch 69/1000\n",
      "48/77 [=================>............] - ETA: 0s - loss: 0.0165 - accuracy: 0.9941\b\b\b\b\b\b\b\b\b\b\b\b\b\b\b\b\b\b\b\b\b\b\b\b\b\b\b\b\b\b\b\b\b\b\b\b\b\b\b\b\b\b\b\b\b\b\b\b\b\b\b\b\b\b\b\b\b\b\b\b\b\b\b\b\b\b\b\b\b\b\b\b\b\b\b\b\b\b\b\b\b\b\n",
      "Epoch 69: val_loss did not improve from 0.03917\n",
      "77/77 [==============================] - 0s 1ms/step - loss: 0.0163 - accuracy: 0.9941 - val_loss: 0.0471 - val_accuracy: 0.9878\n",
      "Epoch 70/1000\n",
      "55/77 [====================>.........] - ETA: 0s - loss: 0.0168 - accuracy: 0.9946\b\b\b\b\b\b\b\b\b\b\b\b\b\b\b\b\b\b\b\b\b\b\b\b\b\b\b\b\b\b\b\b\b\b\b\b\b\b\b\b\b\b\b\b\b\b\b\b\b\b\b\b\b\b\b\b\b\b\b\b\b\b\b\b\b\b\b\b\b\b\b\b\b\b\b\b\b\b\b\b\b\b\n",
      "Epoch 70: val_loss did not improve from 0.03917\n",
      "77/77 [==============================] - 0s 1ms/step - loss: 0.0169 - accuracy: 0.9949 - val_loss: 0.0433 - val_accuracy: 0.9908\n",
      "Epoch 71/1000\n",
      "51/77 [==================>...........] - ETA: 0s - loss: 0.0137 - accuracy: 0.9963\b\b\b\b\b\b\b\b\b\b\b\b\b\b\b\b\b\b\b\b\b\b\b\b\b\b\b\b\b\b\b\b\b\b\b\b\b\b\b\b\b\b\b\b\b\b\b\b\b\b\b\b\b\b\b\b\b\b\b\b\b\b\b\b\b\b\b\b\b\b\b\b\b\b\b\b\b\b\b\b\b\b\n",
      "Epoch 71: val_loss did not improve from 0.03917\n",
      "77/77 [==============================] - 0s 1ms/step - loss: 0.0133 - accuracy: 0.9961 - val_loss: 0.0426 - val_accuracy: 0.9927\n",
      "Epoch 72/1000\n",
      "57/77 [=====================>........] - ETA: 0s - loss: 0.0159 - accuracy: 0.9953\b\b\b\b\b\b\b\b\b\b\b\b\b\b\b\b\b\b\b\b\b\b\b\b\b\b\b\b\b\b\b\b\b\b\b\b\b\b\b\b\b\b\b\b\b\b\b\b\b\b\b\b\b\b\b\b\b\b\b\b\b\b\b\b\b\b\b\b\b\b\b\b\b\b\b\b\b\b\b\b\b\b\n",
      "Epoch 72: val_loss did not improve from 0.03917\n",
      "77/77 [==============================] - 0s 1ms/step - loss: 0.0135 - accuracy: 0.9961 - val_loss: 0.0410 - val_accuracy: 0.9921\n",
      "Epoch 73/1000\n",
      "49/77 [==================>...........] - ETA: 0s - loss: 0.0115 - accuracy: 0.9962\b\b\b\b\b\b\b\b\b\b\b\b\b\b\b\b\b\b\b\b\b\b\b\b\b\b\b\b\b\b\b\b\b\b\b\b\b\b\b\b\b\b\b\b\b\b\b\b\b\b\b\b\b\b\b\b\b\b\b\b\b\b\b\b\b\b\b\b\b\b\b\b\b\b\b\b\b\b\b\b\b\b\n",
      "Epoch 73: val_loss did not improve from 0.03917\n",
      "77/77 [==============================] - 0s 1ms/step - loss: 0.0125 - accuracy: 0.9961 - val_loss: 0.0406 - val_accuracy: 0.9933\n",
      "Epoch 74/1000\n",
      "54/77 [====================>.........] - ETA: 0s - loss: 0.0121 - accuracy: 0.9959\b\b\b\b\b\b\b\b\b\b\b\b\b\b\b\b\b\b\b\b\b\b\b\b\b\b\b\b\b\b\b\b\b\b\b\b\b\b\b\b\b\b\b\b\b\b\b\b\b\b\b\b\b\b\b\b\b\b\b\b\b\b\b\b\b\b\b\b\b\b\b\b\b\b\b\b\b\b\b\b\b\b\n",
      "Epoch 74: val_loss did not improve from 0.03917\n",
      "77/77 [==============================] - 0s 1ms/step - loss: 0.0128 - accuracy: 0.9953 - val_loss: 0.0483 - val_accuracy: 0.9902\n",
      "Epoch 75/1000\n",
      "53/77 [===================>..........] - ETA: 0s - loss: 0.0148 - accuracy: 0.9956\b\b\b\b\b\b\b\b\b\b\b\b\b\b\b\b\b\b\b\b\b\b\b\b\b\b\b\b\b\b\b\b\b\b\b\b\b\b\b\b\b\b\b\b\b\b\b\b\b\b\b\b\b\b\b\b\b\b\b\b\b\b\b\b\b\b\b\b\b\b\b\b\b\b\b\b\b\b\b\b\b\b\n",
      "Epoch 75: val_loss did not improve from 0.03917\n",
      "77/77 [==============================] - 0s 1ms/step - loss: 0.0141 - accuracy: 0.9951 - val_loss: 0.0403 - val_accuracy: 0.9884\n",
      "Epoch 76/1000\n",
      "57/77 [=====================>........] - ETA: 0s - loss: 0.0135 - accuracy: 0.9959\b\b\b\b\b\b\b\b\b\b\b\b\b\b\b\b\b\b\b\b\b\b\b\b\b\b\b\b\b\b\b\b\b\b\b\b\b\b\b\b\b\b\b\b\b\b\b\b\b\b\b\b\b\b\b\b\b\b\b\b\b\b\b\b\b\b\b\b\b\b\b\b\b\b\b\b\b\b\b\b\b\b\n",
      "Epoch 76: val_loss did not improve from 0.03917\n",
      "77/77 [==============================] - 0s 1ms/step - loss: 0.0122 - accuracy: 0.9965 - val_loss: 0.0410 - val_accuracy: 0.9915\n",
      "Epoch 77/1000\n",
      "48/77 [=================>............] - ETA: 0s - loss: 0.0122 - accuracy: 0.9964\b\b\b\b\b\b\b\b\b\b\b\b\b\b\b\b\b\b\b\b\b\b\b\b\b\b\b\b\b\b\b\b\b\b\b\b\b\b\b\b\b\b\b\b\b\b\b\b\b\b\b\b\b\b\b\b\b\b\b\b\b\b\b\b\b\b\b\b\b\b\b\b\b\b\b\b\b\b\b\b\b\b\n",
      "Epoch 77: val_loss did not improve from 0.03917\n",
      "77/77 [==============================] - 0s 1ms/step - loss: 0.0135 - accuracy: 0.9957 - val_loss: 0.0545 - val_accuracy: 0.9835\n",
      "Epoch 78/1000\n",
      "54/77 [====================>.........] - ETA: 0s - loss: 0.0123 - accuracy: 0.9945\b\b\b\b\b\b\b\b\b\b\b\b\b\b\b\b\b\b\b\b\b\b\b\b\b\b\b\b\b\b\b\b\b\b\b\b\b\b\b\b\b\b\b\b\b\b\b\b\b\b\b\b\b\b\b\b\b\b\b\b\b\b\b\b\b\b\b\b\b\b\b\b\b\b\b\b\b\b\b\b\b\b\n",
      "Epoch 78: val_loss did not improve from 0.03917\n",
      "77/77 [==============================] - 0s 1ms/step - loss: 0.0141 - accuracy: 0.9945 - val_loss: 0.0435 - val_accuracy: 0.9915\n",
      "Epoch 79/1000\n",
      "49/77 [==================>...........] - ETA: 0s - loss: 0.0154 - accuracy: 0.9962\b\b\b\b\b\b\b\b\b\b\b\b\b\b\b\b\b\b\b\b\b\b\b\b\b\b\b\b\b\b\b\b\b\b\b\b\b\b\b\b\b\b\b\b\b\b\b\b\b\b\b\b\b\b\b\b\b\b\b\b\b\b\b\b\b\b\b\b\b\b\b\b\b\b\b\b\b\b\b\b\b\b\n",
      "Epoch 79: val_loss did not improve from 0.03917\n",
      "77/77 [==============================] - 0s 1ms/step - loss: 0.0134 - accuracy: 0.9967 - val_loss: 0.0413 - val_accuracy: 0.9921\n",
      "Epoch 80/1000\n",
      "44/77 [================>.............] - ETA: 0s - loss: 0.0146 - accuracy: 0.9947\b\b\b\b\b\b\b\b\b\b\b\b\b\b\b\b\b\b\b\b\b\b\b\b\b\b\b\b\b\b\b\b\b\b\b\b\b\b\b\b\b\b\b\b\b\b\b\b\b\b\b\b\b\b\b\b\b\b\b\b\b\b\b\b\b\b\b\b\b\b\b\b\b\b\b\b\b\b\b\b\b\b\n",
      "Epoch 80: val_loss did not improve from 0.03917\n",
      "77/77 [==============================] - 0s 2ms/step - loss: 0.0123 - accuracy: 0.9961 - val_loss: 0.0457 - val_accuracy: 0.9902\n",
      "Epoch 81/1000\n",
      "45/77 [================>.............] - ETA: 0s - loss: 0.0135 - accuracy: 0.9944\b\b\b\b\b\b\b\b\b\b\b\b\b\b\b\b\b\b\b\b\b\b\b\b\b\b\b\b\b\b\b\b\b\b\b\b\b\b\b\b\b\b\b\b\b\b\b\b\b\b\b\b\b\b\b\b\b\b\b\b\b\b\b\b\b\b\b\b\b\b\b\b\b\b\b\b\b\b\b\b\b\b\n",
      "Epoch 81: val_loss did not improve from 0.03917\n",
      "77/77 [==============================] - 0s 2ms/step - loss: 0.0131 - accuracy: 0.9953 - val_loss: 0.0423 - val_accuracy: 0.9921\n",
      "Epoch 82/1000\n",
      "46/77 [================>.............] - ETA: 0s - loss: 0.0108 - accuracy: 0.9973\b\b\b\b\b\b\b\b\b\b\b\b\b\b\b\b\b\b\b\b\b\b\b\b\b\b\b\b\b\b\b\b\b\b\b\b\b\b\b\b\b\b\b\b\b\b\b\b\b\b\b\b\b\b\b\b\b\b\b\b\b\b\b\b\b\b\b\b\b\b\b\b\b\b\b\b\b\b\b\b\b\b\n",
      "Epoch 82: val_loss did not improve from 0.03917\n",
      "77/77 [==============================] - 0s 2ms/step - loss: 0.0117 - accuracy: 0.9969 - val_loss: 0.0398 - val_accuracy: 0.9908\n",
      "Epoch 83/1000\n",
      "51/77 [==================>...........] - ETA: 0s - loss: 0.0112 - accuracy: 0.9966\b\b\b\b\b\b\b\b\b\b\b\b\b\b\b\b\b\b\b\b\b\b\b\b\b\b\b\b\b\b\b\b\b\b\b\b\b\b\b\b\b\b\b\b\b\b\b\b\b\b\b\b\b\b\b\b\b\b\b\b\b\b\b\b\b\b\b\b\b\b\b\b\b\b\b\b\b\b\b\b\b\b\n",
      "Epoch 83: val_loss improved from 0.03917 to 0.03896, saving model to model/keypoint_classifier\\keypoint_classifier_TEST.hdf5\n",
      "77/77 [==============================] - 0s 2ms/step - loss: 0.0132 - accuracy: 0.9959 - val_loss: 0.0390 - val_accuracy: 0.9921\n",
      "Epoch 84/1000\n",
      "56/77 [====================>.........] - ETA: 0s - loss: 0.0105 - accuracy: 0.9972\b\b\b\b\b\b\b\b\b\b\b\b\b\b\b\b\b\b\b\b\b\b\b\b\b\b\b\b\b\b\b\b\b\b\b\b\b\b\b\b\b\b\b\b\b\b\b\b\b\b\b\b\b\b\b\b\b\b\b\b\b\b\b\b\b\b\b\b\b\b\b\b\b\b\b\b\b\b\b\b\b\b\n",
      "Epoch 84: val_loss did not improve from 0.03896\n",
      "77/77 [==============================] - 0s 1ms/step - loss: 0.0111 - accuracy: 0.9969 - val_loss: 0.0443 - val_accuracy: 0.9866\n",
      "Epoch 85/1000\n",
      "52/77 [===================>..........] - ETA: 0s - loss: 0.0097 - accuracy: 0.9976\b\b\b\b\b\b\b\b\b\b\b\b\b\b\b\b\b\b\b\b\b\b\b\b\b\b\b\b\b\b\b\b\b\b\b\b\b\b\b\b\b\b\b\b\b\b\b\b\b\b\b\b\b\b\b\b\b\b\b\b\b\b\b\b\b\b\b\b\b\b\b\b\b\b\b\b\b\b\b\b\b\b\n",
      "Epoch 85: val_loss did not improve from 0.03896\n",
      "77/77 [==============================] - 0s 1ms/step - loss: 0.0122 - accuracy: 0.9959 - val_loss: 0.0426 - val_accuracy: 0.9921\n",
      "Epoch 86/1000\n",
      "56/77 [====================>.........] - ETA: 0s - loss: 0.0123 - accuracy: 0.9955\b\b\b\b\b\b\b\b\b\b\b\b\b\b\b\b\b\b\b\b\b\b\b\b\b\b\b\b\b\b\b\b\b\b\b\b\b\b\b\b\b\b\b\b\b\b\b\b\b\b\b\b\b\b\b\b\b\b\b\b\b\b\b\b\b\b\b\b\b\b\b\b\b\b\b\b\b\b\b\b\b\b\n",
      "Epoch 86: val_loss did not improve from 0.03896\n",
      "77/77 [==============================] - 0s 1ms/step - loss: 0.0107 - accuracy: 0.9963 - val_loss: 0.0413 - val_accuracy: 0.9921\n",
      "Epoch 87/1000\n",
      "50/77 [==================>...........] - ETA: 0s - loss: 0.0115 - accuracy: 0.9966\b\b\b\b\b\b\b\b\b\b\b\b\b\b\b\b\b\b\b\b\b\b\b\b\b\b\b\b\b\b\b\b\b\b\b\b\b\b\b\b\b\b\b\b\b\b\b\b\b\b\b\b\b\b\b\b\b\b\b\b\b\b\b\b\b\b\b\b\b\b\b\b\b\b\b\b\b\b\b\b\b\b\n",
      "Epoch 87: val_loss did not improve from 0.03896\n",
      "77/77 [==============================] - 0s 1ms/step - loss: 0.0224 - accuracy: 0.9923 - val_loss: 0.0920 - val_accuracy: 0.9750\n",
      "Epoch 88/1000\n",
      "56/77 [====================>.........] - ETA: 0s - loss: 0.0210 - accuracy: 0.9922\b\b\b\b\b\b\b\b\b\b\b\b\b\b\b\b\b\b\b\b\b\b\b\b\b\b\b\b\b\b\b\b\b\b\b\b\b\b\b\b\b\b\b\b\b\b\b\b\b\b\b\b\b\b\b\b\b\b\b\b\b\b\b\b\b\b\b\b\b\b\b\b\b\b\b\b\b\b\b\b\b\b\n",
      "Epoch 88: val_loss did not improve from 0.03896\n",
      "77/77 [==============================] - 0s 1ms/step - loss: 0.0185 - accuracy: 0.9931 - val_loss: 0.0461 - val_accuracy: 0.9915\n",
      "Epoch 89/1000\n",
      "44/77 [================>.............] - ETA: 0s - loss: 0.0112 - accuracy: 0.9957\b\b\b\b\b\b\b\b\b\b\b\b\b\b\b\b\b\b\b\b\b\b\b\b\b\b\b\b\b\b\b\b\b\b\b\b\b\b\b\b\b\b\b\b\b\b\b\b\b\b\b\b\b\b\b\b\b\b\b\b\b\b\b\b\b\b\b\b\b\b\b\b\b\b\b\b\b\b\b\b\b\b\n",
      "Epoch 89: val_loss did not improve from 0.03896\n",
      "77/77 [==============================] - 0s 1ms/step - loss: 0.0115 - accuracy: 0.9961 - val_loss: 0.0430 - val_accuracy: 0.9915\n",
      "Epoch 90/1000\n",
      "56/77 [====================>.........] - ETA: 0s - loss: 0.0097 - accuracy: 0.9967\b\b\b\b\b\b\b\b\b\b\b\b\b\b\b\b\b\b\b\b\b\b\b\b\b\b\b\b\b\b\b\b\b\b\b\b\b\b\b\b\b\b\b\b\b\b\b\b\b\b\b\b\b\b\b\b\b\b\b\b\b\b\b\b\b\b\b\b\b\b\b\b\b\b\b\b\b\b\b\b\b\b\n",
      "Epoch 90: val_loss did not improve from 0.03896\n",
      "77/77 [==============================] - 0s 1ms/step - loss: 0.0101 - accuracy: 0.9967 - val_loss: 0.0428 - val_accuracy: 0.9927\n",
      "Epoch 91/1000\n",
      "52/77 [===================>..........] - ETA: 0s - loss: 0.0107 - accuracy: 0.9970\b\b\b\b\b\b\b\b\b\b\b\b\b\b\b\b\b\b\b\b\b\b\b\b\b\b\b\b\b\b\b\b\b\b\b\b\b\b\b\b\b\b\b\b\b\b\b\b\b\b\b\b\b\b\b\b\b\b\b\b\b\b\b\b\b\b\b\b\b\b\b\b\b\b\b\b\b\b\b\b\b\b\n",
      "Epoch 91: val_loss did not improve from 0.03896\n",
      "77/77 [==============================] - 0s 1ms/step - loss: 0.0118 - accuracy: 0.9965 - val_loss: 0.0443 - val_accuracy: 0.9908\n",
      "Epoch 92/1000\n",
      "57/77 [=====================>........] - ETA: 0s - loss: 0.0153 - accuracy: 0.9951\b\b\b\b\b\b\b\b\b\b\b\b\b\b\b\b\b\b\b\b\b\b\b\b\b\b\b\b\b\b\b\b\b\b\b\b\b\b\b\b\b\b\b\b\b\b\b\b\b\b\b\b\b\b\b\b\b\b\b\b\b\b\b\b\b\b\b\b\b\b\b\b\b\b\b\b\b\b\b\b\b\b\n",
      "Epoch 92: val_loss did not improve from 0.03896\n",
      "77/77 [==============================] - 0s 1ms/step - loss: 0.0154 - accuracy: 0.9943 - val_loss: 0.0593 - val_accuracy: 0.9896\n",
      "Epoch 93/1000\n",
      "50/77 [==================>...........] - ETA: 0s - loss: 0.0182 - accuracy: 0.9941\b\b\b\b\b\b\b\b\b\b\b\b\b\b\b\b\b\b\b\b\b\b\b\b\b\b\b\b\b\b\b\b\b\b\b\b\b\b\b\b\b\b\b\b\b\b\b\b\b\b\b\b\b\b\b\b\b\b\b\b\b\b\b\b\b\b\b\b\b\b\b\b\b\b\b\b\b\b\b\b\b\b\n",
      "Epoch 93: val_loss did not improve from 0.03896\n",
      "77/77 [==============================] - 0s 1ms/step - loss: 0.0164 - accuracy: 0.9949 - val_loss: 0.0478 - val_accuracy: 0.9896\n",
      "Epoch 94/1000\n",
      "56/77 [====================>.........] - ETA: 0s - loss: 0.0106 - accuracy: 0.9961\b\b\b\b\b\b\b\b\b\b\b\b\b\b\b\b\b\b\b\b\b\b\b\b\b\b\b\b\b\b\b\b\b\b\b\b\b\b\b\b\b\b\b\b\b\b\b\b\b\b\b\b\b\b\b\b\b\b\b\b\b\b\b\b\b\b\b\b\b\b\b\b\b\b\b\b\b\b\b\b\b\b\n",
      "Epoch 94: val_loss did not improve from 0.03896\n",
      "77/77 [==============================] - 0s 1ms/step - loss: 0.0109 - accuracy: 0.9959 - val_loss: 0.0448 - val_accuracy: 0.9927\n",
      "Epoch 95/1000\n",
      "49/77 [==================>...........] - ETA: 0s - loss: 0.0123 - accuracy: 0.9955    \b\b\b\b\b\b\b\b\b\b\b\b\b\b\b\b\b\b\b\b\b\b\b\b\b\b\b\b\b\b\b\b\b\b\b\b\b\b\b\b\b\b\b\b\b\b\b\b\b\b\b\b\b\b\b\b\b\b\b\b\b\b\b\b\b\b\b\b\b\b\b\b\b\b\b\b\b\b\b\b\b\b\b\b\b\b\n",
      "Epoch 95: val_loss did not improve from 0.03896\n",
      "77/77 [==============================] - 0s 1ms/step - loss: 0.0107 - accuracy: 0.9965 - val_loss: 0.0441 - val_accuracy: 0.9927\n",
      "Epoch 96/1000\n",
      "55/77 [====================>.........] - ETA: 0s - loss: 0.0103 - accuracy: 0.9966    \b\b\b\b\b\b\b\b\b\b\b\b\b\b\b\b\b\b\b\b\b\b\b\b\b\b\b\b\b\b\b\b\b\b\b\b\b\b\b\b\b\b\b\b\b\b\b\b\b\b\b\b\b\b\b\b\b\b\b\b\b\b\b\b\b\b\b\b\b\b\b\b\b\b\b\b\b\b\b\b\b\b\b\b\b\b\n",
      "Epoch 96: val_loss did not improve from 0.03896\n",
      "77/77 [==============================] - 0s 1ms/step - loss: 0.0094 - accuracy: 0.9974 - val_loss: 0.0447 - val_accuracy: 0.9896\n",
      "Epoch 97/1000\n",
      "51/77 [==================>...........] - ETA: 0s - loss: 0.0090 - accuracy: 0.9975\b\b\b\b\b\b\b\b\b\b\b\b\b\b\b\b\b\b\b\b\b\b\b\b\b\b\b\b\b\b\b\b\b\b\b\b\b\b\b\b\b\b\b\b\b\b\b\b\b\b\b\b\b\b\b\b\b\b\b\b\b\b\b\b\b\b\b\b\b\b\b\b\b\b\b\b\b\b\b\b\b\b\n",
      "Epoch 97: val_loss did not improve from 0.03896\n",
      "77/77 [==============================] - 0s 1ms/step - loss: 0.0085 - accuracy: 0.9974 - val_loss: 0.0495 - val_accuracy: 0.9915\n",
      "Epoch 98/1000\n",
      "55/77 [====================>.........] - ETA: 0s - loss: 0.0098 - accuracy: 0.9969\b\b\b\b\b\b\b\b\b\b\b\b\b\b\b\b\b\b\b\b\b\b\b\b\b\b\b\b\b\b\b\b\b\b\b\b\b\b\b\b\b\b\b\b\b\b\b\b\b\b\b\b\b\b\b\b\b\b\b\b\b\b\b\b\b\b\b\b\b\b\b\b\b\b\b\b\b\b\b\b\b\b\n",
      "Epoch 98: val_loss did not improve from 0.03896\n",
      "77/77 [==============================] - 0s 1ms/step - loss: 0.0098 - accuracy: 0.9972 - val_loss: 0.0442 - val_accuracy: 0.9933\n",
      "Epoch 99/1000\n",
      "49/77 [==================>...........] - ETA: 0s - loss: 0.0120 - accuracy: 0.9965\b\b\b\b\b\b\b\b\b\b\b\b\b\b\b\b\b\b\b\b\b\b\b\b\b\b\b\b\b\b\b\b\b\b\b\b\b\b\b\b\b\b\b\b\b\b\b\b\b\b\b\b\b\b\b\b\b\b\b\b\b\b\b\b\b\b\b\b\b\b\b\b\b\b\b\b\b\b\b\b\b\b\n",
      "Epoch 99: val_loss did not improve from 0.03896\n",
      "77/77 [==============================] - 0s 1ms/step - loss: 0.0102 - accuracy: 0.9972 - val_loss: 0.0520 - val_accuracy: 0.9896\n",
      "Epoch 100/1000\n",
      "53/77 [===================>..........] - ETA: 0s - loss: 0.0086 - accuracy: 0.9973\b\b\b\b\b\b\b\b\b\b\b\b\b\b\b\b\b\b\b\b\b\b\b\b\b\b\b\b\b\b\b\b\b\b\b\b\b\b\b\b\b\b\b\b\b\b\b\b\b\b\b\b\b\b\b\b\b\b\b\b\b\b\b\b\b\b\b\b\b\b\b\b\b\b\b\b\b\b\b\b\b\b\n",
      "Epoch 100: val_loss did not improve from 0.03896\n",
      "77/77 [==============================] - 0s 1ms/step - loss: 0.0104 - accuracy: 0.9967 - val_loss: 0.0437 - val_accuracy: 0.9927\n",
      "Epoch 101/1000\n",
      "50/77 [==================>...........] - ETA: 0s - loss: 0.0099 - accuracy: 0.9969\b\b\b\b\b\b\b\b\b\b\b\b\b\b\b\b\b\b\b\b\b\b\b\b\b\b\b\b\b\b\b\b\b\b\b\b\b\b\b\b\b\b\b\b\b\b\b\b\b\b\b\b\b\b\b\b\b\b\b\b\b\b\b\b\b\b\b\b\b\b\b\b\b\b\b\b\b\b\b\b\b\b\n",
      "Epoch 101: val_loss did not improve from 0.03896\n",
      "77/77 [==============================] - 0s 1ms/step - loss: 0.0090 - accuracy: 0.9974 - val_loss: 0.0472 - val_accuracy: 0.9902\n",
      "Epoch 102/1000\n",
      "58/77 [=====================>........] - ETA: 0s - loss: 0.0081 - accuracy: 0.9970\b\b\b\b\b\b\b\b\b\b\b\b\b\b\b\b\b\b\b\b\b\b\b\b\b\b\b\b\b\b\b\b\b\b\b\b\b\b\b\b\b\b\b\b\b\b\b\b\b\b\b\b\b\b\b\b\b\b\b\b\b\b\b\b\b\b\b\b\b\b\b\b\b\b\b\b\b\b\b\b\b\b\n",
      "Epoch 102: val_loss did not improve from 0.03896\n",
      "77/77 [==============================] - 0s 1ms/step - loss: 0.0090 - accuracy: 0.9974 - val_loss: 0.0444 - val_accuracy: 0.9921\n",
      "Epoch 103/1000\n",
      "48/77 [=================>............] - ETA: 0s - loss: 0.0095 - accuracy: 0.9971\b\b\b\b\b\b\b\b\b\b\b\b\b\b\b\b\b\b\b\b\b\b\b\b\b\b\b\b\b\b\b\b\b\b\b\b\b\b\b\b\b\b\b\b\b\b\b\b\b\b\b\b\b\b\b\b\b\b\b\b\b\b\b\b\b\b\b\b\b\b\b\b\b\b\b\b\b\b\b\b\b\b\n",
      "Epoch 103: val_loss did not improve from 0.03896\n",
      "77/77 [==============================] - 0s 1ms/step - loss: 0.0105 - accuracy: 0.9967 - val_loss: 0.0442 - val_accuracy: 0.9896\n",
      "Epoch 104/1000\n",
      "54/77 [====================>.........] - ETA: 0s - loss: 0.0096 - accuracy: 0.9971\b\b\b\b\b\b\b\b\b\b\b\b\b\b\b\b\b\b\b\b\b\b\b\b\b\b\b\b\b\b\b\b\b\b\b\b\b\b\b\b\b\b\b\b\b\b\b\b\b\b\b\b\b\b\b\b\b\b\b\b\b\b\b\b\b\b\b\b\b\b\b\b\b\b\b\b\b\b\b\b\b\b\n",
      "Epoch 104: val_loss did not improve from 0.03896\n",
      "77/77 [==============================] - 0s 1ms/step - loss: 0.0091 - accuracy: 0.9972 - val_loss: 0.0409 - val_accuracy: 0.9915\n",
      "Epoch 105/1000\n",
      "48/77 [=================>............] - ETA: 0s - loss: 0.0096 - accuracy: 0.9961\b\b\b\b\b\b\b\b\b\b\b\b\b\b\b\b\b\b\b\b\b\b\b\b\b\b\b\b\b\b\b\b\b\b\b\b\b\b\b\b\b\b\b\b\b\b\b\b\b\b\b\b\b\b\b\b\b\b\b\b\b\b\b\b\b\b\b\b\b\b\b\b\b\b\b\b\b\b\b\b\b\b\n",
      "Epoch 105: val_loss did not improve from 0.03896\n",
      "77/77 [==============================] - 0s 1ms/step - loss: 0.0094 - accuracy: 0.9967 - val_loss: 0.0449 - val_accuracy: 0.9915\n",
      "Epoch 106/1000\n",
      "54/77 [====================>.........] - ETA: 0s - loss: 0.0081 - accuracy: 0.9968\b\b\b\b\b\b\b\b\b\b\b\b\b\b\b\b\b\b\b\b\b\b\b\b\b\b\b\b\b\b\b\b\b\b\b\b\b\b\b\b\b\b\b\b\b\b\b\b\b\b\b\b\b\b\b\b\b\b\b\b\b\b\b\b\b\b\b\b\b\b\b\b\b\b\b\b\b\b\b\b\b\b\n",
      "Epoch 106: val_loss did not improve from 0.03896\n",
      "77/77 [==============================] - 0s 1ms/step - loss: 0.0108 - accuracy: 0.9957 - val_loss: 0.0882 - val_accuracy: 0.9774\n",
      "Epoch 107/1000\n",
      "42/77 [===============>..............] - ETA: 0s - loss: 0.0155 - accuracy: 0.9944\b\b\b\b\b\b\b\b\b\b\b\b\b\b\b\b\b\b\b\b\b\b\b\b\b\b\b\b\b\b\b\b\b\b\b\b\b\b\b\b\b\b\b\b\b\b\b\b\b\b\b\b\b\b\b\b\b\b\b\b\b\b\b\b\b\b\b\b\b\b\b\b\b\b\b\b\b\b\b\b\b\b\n",
      "Epoch 107: val_loss did not improve from 0.03896\n",
      "77/77 [==============================] - 0s 2ms/step - loss: 0.0135 - accuracy: 0.9953 - val_loss: 0.0449 - val_accuracy: 0.9921\n",
      "Epoch 108/1000\n",
      "57/77 [=====================>........] - ETA: 0s - loss: 0.0051 - accuracy: 0.9989\b\b\b\b\b\b\b\b\b\b\b\b\b\b\b\b\b\b\b\b\b\b\b\b\b\b\b\b\b\b\b\b\b\b\b\b\b\b\b\b\b\b\b\b\b\b\b\b\b\b\b\b\b\b\b\b\b\b\b\b\b\b\b\b\b\b\b\b\b\b\b\b\b\b\b\b\b\b\b\b\b\b\n",
      "Epoch 108: val_loss did not improve from 0.03896\n",
      "77/77 [==============================] - 0s 1ms/step - loss: 0.0077 - accuracy: 0.9976 - val_loss: 0.0475 - val_accuracy: 0.9915\n",
      "Epoch 109/1000\n",
      "48/77 [=================>............] - ETA: 0s - loss: 0.0089 - accuracy: 0.9977\b\b\b\b\b\b\b\b\b\b\b\b\b\b\b\b\b\b\b\b\b\b\b\b\b\b\b\b\b\b\b\b\b\b\b\b\b\b\b\b\b\b\b\b\b\b\b\b\b\b\b\b\b\b\b\b\b\b\b\b\b\b\b\b\b\b\b\b\b\b\b\b\b\b\b\b\b\b\b\b\b\b\n",
      "Epoch 109: val_loss did not improve from 0.03896\n",
      "77/77 [==============================] - 0s 1ms/step - loss: 0.0074 - accuracy: 0.9984 - val_loss: 0.0441 - val_accuracy: 0.9927\n",
      "Epoch 110/1000\n",
      "55/77 [====================>.........] - ETA: 0s - loss: 0.0101 - accuracy: 0.9963\b\b\b\b\b\b\b\b\b\b\b\b\b\b\b\b\b\b\b\b\b\b\b\b\b\b\b\b\b\b\b\b\b\b\b\b\b\b\b\b\b\b\b\b\b\b\b\b\b\b\b\b\b\b\b\b\b\b\b\b\b\b\b\b\b\b\b\b\b\b\b\b\b\b\b\b\b\b\b\b\b\b\n",
      "Epoch 110: val_loss did not improve from 0.03896\n",
      "77/77 [==============================] - 0s 1ms/step - loss: 0.0091 - accuracy: 0.9972 - val_loss: 0.0413 - val_accuracy: 0.9927\n",
      "Epoch 111/1000\n",
      "49/77 [==================>...........] - ETA: 0s - loss: 0.0064 - accuracy: 0.9974    \b\b\b\b\b\b\b\b\b\b\b\b\b\b\b\b\b\b\b\b\b\b\b\b\b\b\b\b\b\b\b\b\b\b\b\b\b\b\b\b\b\b\b\b\b\b\b\b\b\b\b\b\b\b\b\b\b\b\b\b\b\b\b\b\b\b\b\b\b\b\b\b\b\b\b\b\b\b\b\b\b\b\b\b\b\b\n",
      "Epoch 111: val_loss did not improve from 0.03896\n",
      "77/77 [==============================] - 0s 1ms/step - loss: 0.0088 - accuracy: 0.9969 - val_loss: 0.0456 - val_accuracy: 0.9927\n",
      "Epoch 112/1000\n",
      "55/77 [====================>.........] - ETA: 0s - loss: 0.0071 - accuracy: 0.9969\b\b\b\b\b\b\b\b\b\b\b\b\b\b\b\b\b\b\b\b\b\b\b\b\b\b\b\b\b\b\b\b\b\b\b\b\b\b\b\b\b\b\b\b\b\b\b\b\b\b\b\b\b\b\b\b\b\b\b\b\b\b\b\b\b\b\b\b\b\b\b\b\b\b\b\b\b\b\b\b\b\b\n",
      "Epoch 112: val_loss did not improve from 0.03896\n",
      "77/77 [==============================] - 0s 1ms/step - loss: 0.0079 - accuracy: 0.9965 - val_loss: 0.0439 - val_accuracy: 0.9890\n",
      "Epoch 113/1000\n",
      "52/77 [===================>..........] - ETA: 0s - loss: 0.0062 - accuracy: 0.9982    \b\b\b\b\b\b\b\b\b\b\b\b\b\b\b\b\b\b\b\b\b\b\b\b\b\b\b\b\b\b\b\b\b\b\b\b\b\b\b\b\b\b\b\b\b\b\b\b\b\b\b\b\b\b\b\b\b\b\b\b\b\b\b\b\b\b\b\b\b\b\b\b\b\b\b\b\b\b\b\b\b\b\b\b\b\b\n",
      "Epoch 113: val_loss did not improve from 0.03896\n",
      "77/77 [==============================] - 0s 1ms/step - loss: 0.0068 - accuracy: 0.9980 - val_loss: 0.0467 - val_accuracy: 0.9927\n",
      "Epoch 114/1000\n",
      "57/77 [=====================>........] - ETA: 0s - loss: 0.0058 - accuracy: 0.9986    \b\b\b\b\b\b\b\b\b\b\b\b\b\b\b\b\b\b\b\b\b\b\b\b\b\b\b\b\b\b\b\b\b\b\b\b\b\b\b\b\b\b\b\b\b\b\b\b\b\b\b\b\b\b\b\b\b\b\b\b\b\b\b\b\b\b\b\b\b\b\b\b\b\b\b\b\b\b\b\b\b\b\b\b\b\b\n",
      "Epoch 114: val_loss did not improve from 0.03896\n",
      "77/77 [==============================] - 0s 1ms/step - loss: 0.0079 - accuracy: 0.9980 - val_loss: 0.0480 - val_accuracy: 0.9884\n",
      "Epoch 115/1000\n",
      "49/77 [==================>...........] - ETA: 0s - loss: 0.0065 - accuracy: 0.9987    \b\b\b\b\b\b\b\b\b\b\b\b\b\b\b\b\b\b\b\b\b\b\b\b\b\b\b\b\b\b\b\b\b\b\b\b\b\b\b\b\b\b\b\b\b\b\b\b\b\b\b\b\b\b\b\b\b\b\b\b\b\b\b\b\b\b\b\b\b\b\b\b\b\b\b\b\b\b\b\b\b\b\b\b\b\b\n",
      "Epoch 115: val_loss did not improve from 0.03896\n",
      "77/77 [==============================] - 0s 1ms/step - loss: 0.0066 - accuracy: 0.9978 - val_loss: 0.0457 - val_accuracy: 0.9890\n",
      "Epoch 116/1000\n",
      "57/77 [=====================>........] - ETA: 0s - loss: 0.0123 - accuracy: 0.9956\b\b\b\b\b\b\b\b\b\b\b\b\b\b\b\b\b\b\b\b\b\b\b\b\b\b\b\b\b\b\b\b\b\b\b\b\b\b\b\b\b\b\b\b\b\b\b\b\b\b\b\b\b\b\b\b\b\b\b\b\b\b\b\b\b\b\b\b\b\b\b\b\b\b\b\b\b\b\b\b\b\b\n",
      "Epoch 116: val_loss did not improve from 0.03896\n",
      "77/77 [==============================] - 0s 1ms/step - loss: 0.0119 - accuracy: 0.9957 - val_loss: 0.0464 - val_accuracy: 0.9902\n",
      "Epoch 117/1000\n",
      "51/77 [==================>...........] - ETA: 0s - loss: 0.0099 - accuracy: 0.9957\b\b\b\b\b\b\b\b\b\b\b\b\b\b\b\b\b\b\b\b\b\b\b\b\b\b\b\b\b\b\b\b\b\b\b\b\b\b\b\b\b\b\b\b\b\b\b\b\b\b\b\b\b\b\b\b\b\b\b\b\b\b\b\b\b\b\b\b\b\b\b\b\b\b\b\b\b\b\b\b\b\b\n",
      "Epoch 117: val_loss did not improve from 0.03896\n",
      "77/77 [==============================] - 0s 1ms/step - loss: 0.0103 - accuracy: 0.9957 - val_loss: 0.0491 - val_accuracy: 0.9890\n",
      "Epoch 118/1000\n",
      "52/77 [===================>..........] - ETA: 0s - loss: 0.0082 - accuracy: 0.9967\b\b\b\b\b\b\b\b\b\b\b\b\b\b\b\b\b\b\b\b\b\b\b\b\b\b\b\b\b\b\b\b\b\b\b\b\b\b\b\b\b\b\b\b\b\b\b\b\b\b\b\b\b\b\b\b\b\b\b\b\b\b\b\b\b\b\b\b\b\b\b\b\b\b\b\b\b\b\b\b\b\b\n",
      "Epoch 118: val_loss did not improve from 0.03896\n",
      "77/77 [==============================] - 0s 1ms/step - loss: 0.0085 - accuracy: 0.9967 - val_loss: 0.0559 - val_accuracy: 0.9872\n",
      "Epoch 119/1000\n",
      "50/77 [==================>...........] - ETA: 0s - loss: 0.0078 - accuracy: 0.9981    \b\b\b\b\b\b\b\b\b\b\b\b\b\b\b\b\b\b\b\b\b\b\b\b\b\b\b\b\b\b\b\b\b\b\b\b\b\b\b\b\b\b\b\b\b\b\b\b\b\b\b\b\b\b\b\b\b\b\b\b\b\b\b\b\b\b\b\b\b\b\b\b\b\b\b\b\b\b\b\b\b\b\b\b\b\b\n",
      "Epoch 119: val_loss did not improve from 0.03896\n",
      "77/77 [==============================] - 0s 1ms/step - loss: 0.0082 - accuracy: 0.9978 - val_loss: 0.0450 - val_accuracy: 0.9902\n",
      "Epoch 120/1000\n",
      "57/77 [=====================>........] - ETA: 0s - loss: 0.0109 - accuracy: 0.9962\b\b\b\b\b\b\b\b\b\b\b\b\b\b\b\b\b\b\b\b\b\b\b\b\b\b\b\b\b\b\b\b\b\b\b\b\b\b\b\b\b\b\b\b\b\b\b\b\b\b\b\b\b\b\b\b\b\b\b\b\b\b\b\b\b\b\b\b\b\b\b\b\b\b\b\b\b\b\b\b\b\b\n",
      "Epoch 120: val_loss did not improve from 0.03896\n",
      "77/77 [==============================] - 0s 1ms/step - loss: 0.0101 - accuracy: 0.9965 - val_loss: 0.0424 - val_accuracy: 0.9915\n",
      "Epoch 121/1000\n",
      "47/77 [=================>............] - ETA: 0s - loss: 0.0074 - accuracy: 0.9973\b\b\b\b\b\b\b\b\b\b\b\b\b\b\b\b\b\b\b\b\b\b\b\b\b\b\b\b\b\b\b\b\b\b\b\b\b\b\b\b\b\b\b\b\b\b\b\b\b\b\b\b\b\b\b\b\b\b\b\b\b\b\b\b\b\b\b\b\b\b\b\b\b\b\b\b\b\b\b\b\b\b\n",
      "Epoch 121: val_loss did not improve from 0.03896\n",
      "77/77 [==============================] - 0s 1ms/step - loss: 0.0068 - accuracy: 0.9976 - val_loss: 0.0465 - val_accuracy: 0.9908\n",
      "Epoch 122/1000\n",
      "58/77 [=====================>........] - ETA: 0s - loss: 0.0078 - accuracy: 0.9978    \b\b\b\b\b\b\b\b\b\b\b\b\b\b\b\b\b\b\b\b\b\b\b\b\b\b\b\b\b\b\b\b\b\b\b\b\b\b\b\b\b\b\b\b\b\b\b\b\b\b\b\b\b\b\b\b\b\b\b\b\b\b\b\b\b\b\b\b\b\b\b\b\b\b\b\b\b\b\b\b\b\b\b\b\b\b\n",
      "Epoch 122: val_loss did not improve from 0.03896\n",
      "77/77 [==============================] - 0s 1ms/step - loss: 0.0070 - accuracy: 0.9980 - val_loss: 0.0450 - val_accuracy: 0.9902\n",
      "Epoch 123/1000\n",
      "51/77 [==================>...........] - ETA: 0s - loss: 0.0056 - accuracy: 0.9975    \b\b\b\b\b\b\b\b\b\b\b\b\b\b\b\b\b\b\b\b\b\b\b\b\b\b\b\b\b\b\b\b\b\b\b\b\b\b\b\b\b\b\b\b\b\b\b\b\b\b\b\b\b\b\b\b\b\b\b\b\b\b\b\b\b\b\b\b\b\b\b\b\b\b\b\b\b\b\b\b\b\b\b\b\b\b\n",
      "Epoch 123: val_loss did not improve from 0.03896\n",
      "77/77 [==============================] - 0s 1ms/step - loss: 0.0067 - accuracy: 0.9976 - val_loss: 0.0450 - val_accuracy: 0.9915\n",
      "Epoch 124/1000\n",
      "56/77 [====================>.........] - ETA: 0s - loss: 0.0066 - accuracy: 0.9983\b\b\b\b\b\b\b\b\b\b\b\b\b\b\b\b\b\b\b\b\b\b\b\b\b\b\b\b\b\b\b\b\b\b\b\b\b\b\b\b\b\b\b\b\b\b\b\b\b\b\b\b\b\b\b\b\b\b\b\b\b\b\b\b\b\b\b\b\b\b\b\b\b\b\b\b\b\b\b\b\b\b\n",
      "Epoch 124: val_loss did not improve from 0.03896\n",
      "77/77 [==============================] - 0s 1ms/step - loss: 0.0062 - accuracy: 0.9982 - val_loss: 0.0437 - val_accuracy: 0.9927\n",
      "Epoch 125/1000\n",
      "48/77 [=================>............] - ETA: 0s - loss: 0.0061 - accuracy: 0.9984    \b\b\b\b\b\b\b\b\b\b\b\b\b\b\b\b\b\b\b\b\b\b\b\b\b\b\b\b\b\b\b\b\b\b\b\b\b\b\b\b\b\b\b\b\b\b\b\b\b\b\b\b\b\b\b\b\b\b\b\b\b\b\b\b\b\b\b\b\b\b\b\b\b\b\b\b\b\b\b\b\b\b\b\b\b\b\n",
      "Epoch 125: val_loss did not improve from 0.03896\n",
      "77/77 [==============================] - 0s 1ms/step - loss: 0.0058 - accuracy: 0.9986 - val_loss: 0.0433 - val_accuracy: 0.9927\n",
      "Epoch 126/1000\n",
      "52/77 [===================>..........] - ETA: 0s - loss: 0.0067 - accuracy: 0.9970\b\b\b\b\b\b\b\b\b\b\b\b\b\b\b\b\b\b\b\b\b\b\b\b\b\b\b\b\b\b\b\b\b\b\b\b\b\b\b\b\b\b\b\b\b\b\b\b\b\b\b\b\b\b\b\b\b\b\b\b\b\b\b\b\b\b\b\b\b\b\b\b\b\b\b\b\b\b\b\b\b\b\n",
      "Epoch 126: val_loss did not improve from 0.03896\n",
      "77/77 [==============================] - 0s 1ms/step - loss: 0.0073 - accuracy: 0.9972 - val_loss: 0.0483 - val_accuracy: 0.9884\n",
      "Epoch 127/1000\n",
      "49/77 [==================>...........] - ETA: 0s - loss: 0.0081 - accuracy: 0.9971\b\b\b\b\b\b\b\b\b\b\b\b\b\b\b\b\b\b\b\b\b\b\b\b\b\b\b\b\b\b\b\b\b\b\b\b\b\b\b\b\b\b\b\b\b\b\b\b\b\b\b\b\b\b\b\b\b\b\b\b\b\b\b\b\b\b\b\b\b\b\b\b\b\b\b\b\b\b\b\b\b\b\n",
      "Epoch 127: val_loss did not improve from 0.03896\n",
      "77/77 [==============================] - 0s 1ms/step - loss: 0.0074 - accuracy: 0.9974 - val_loss: 0.0508 - val_accuracy: 0.9915\n",
      "Epoch 128/1000\n",
      "56/77 [====================>.........] - ETA: 0s - loss: 0.0113 - accuracy: 0.9964\b\b\b\b\b\b\b\b\b\b\b\b\b\b\b\b\b\b\b\b\b\b\b\b\b\b\b\b\b\b\b\b\b\b\b\b\b\b\b\b\b\b\b\b\b\b\b\b\b\b\b\b\b\b\b\b\b\b\b\b\b\b\b\b\b\b\b\b\b\b\b\b\b\b\b\b\b\b\b\b\b\b\n",
      "Epoch 128: val_loss did not improve from 0.03896\n",
      "77/77 [==============================] - 0s 1ms/step - loss: 0.0124 - accuracy: 0.9963 - val_loss: 0.0480 - val_accuracy: 0.9915\n",
      "Epoch 129/1000\n",
      "49/77 [==================>...........] - ETA: 0s - loss: 0.0081 - accuracy: 0.9971    \b\b\b\b\b\b\b\b\b\b\b\b\b\b\b\b\b\b\b\b\b\b\b\b\b\b\b\b\b\b\b\b\b\b\b\b\b\b\b\b\b\b\b\b\b\b\b\b\b\b\b\b\b\b\b\b\b\b\b\b\b\b\b\b\b\b\b\b\b\b\b\b\b\b\b\b\b\b\b\b\b\b\b\b\b\b\n",
      "Epoch 129: val_loss did not improve from 0.03896\n",
      "77/77 [==============================] - 0s 1ms/step - loss: 0.0073 - accuracy: 0.9976 - val_loss: 0.0464 - val_accuracy: 0.9933\n",
      "Epoch 130/1000\n",
      "53/77 [===================>..........] - ETA: 0s - loss: 0.0081 - accuracy: 0.9968\b\b\b\b\b\b\b\b\b\b\b\b\b\b\b\b\b\b\b\b\b\b\b\b\b\b\b\b\b\b\b\b\b\b\b\b\b\b\b\b\b\b\b\b\b\b\b\b\b\b\b\b\b\b\b\b\b\b\b\b\b\b\b\b\b\b\b\b\b\b\b\b\b\b\b\b\b\b\b\b\b\b\n",
      "Epoch 130: val_loss did not improve from 0.03896\n",
      "77/77 [==============================] - 0s 1ms/step - loss: 0.0088 - accuracy: 0.9963 - val_loss: 0.0533 - val_accuracy: 0.9921\n",
      "Epoch 131/1000\n",
      "46/77 [================>.............] - ETA: 0s - loss: 0.0036 - accuracy: 0.9997    \b\b\b\b\b\b\b\b\b\b\b\b\b\b\b\b\b\b\b\b\b\b\b\b\b\b\b\b\b\b\b\b\b\b\b\b\b\b\b\b\b\b\b\b\b\b\b\b\b\b\b\b\b\b\b\b\b\b\b\b\b\b\b\b\b\b\b\b\b\b\b\b\b\b\b\b\b\b\b\b\b\b\b\b\b\b\n",
      "Epoch 131: val_loss did not improve from 0.03896\n",
      "77/77 [==============================] - 0s 2ms/step - loss: 0.0076 - accuracy: 0.9980 - val_loss: 0.0402 - val_accuracy: 0.9908\n",
      "Epoch 132/1000\n",
      "55/77 [====================>.........] - ETA: 0s - loss: 0.0059 - accuracy: 0.9983\b\b\b\b\b\b\b\b\b\b\b\b\b\b\b\b\b\b\b\b\b\b\b\b\b\b\b\b\b\b\b\b\b\b\b\b\b\b\b\b\b\b\b\b\b\b\b\b\b\b\b\b\b\b\b\b\b\b\b\b\b\b\b\b\b\b\b\b\b\b\b\b\b\b\b\b\b\b\b\b\b\b\n",
      "Epoch 132: val_loss did not improve from 0.03896\n",
      "77/77 [==============================] - 0s 1ms/step - loss: 0.0070 - accuracy: 0.9980 - val_loss: 0.0489 - val_accuracy: 0.9927\n",
      "Epoch 133/1000\n",
      "52/77 [===================>..........] - ETA: 0s - loss: 0.0049 - accuracy: 0.9988\b\b\b\b\b\b\b\b\b\b\b\b\b\b\b\b\b\b\b\b\b\b\b\b\b\b\b\b\b\b\b\b\b\b\b\b\b\b\b\b\b\b\b\b\b\b\b\b\b\b\b\b\b\b\b\b\b\b\b\b\b\b\b\b\b\b\b\b\b\b\b\b\b\b\b\b\b\b\b\b\b\b\n",
      "Epoch 133: val_loss did not improve from 0.03896\n",
      "77/77 [==============================] - 0s 1ms/step - loss: 0.0058 - accuracy: 0.9988 - val_loss: 0.0456 - val_accuracy: 0.9896\n",
      "Epoch 133: early stopping\n"
     ]
    },
    {
     "data": {
      "text/plain": [
       "<keras.callbacks.History at 0x1ad4213f130>"
      ]
     },
     "execution_count": 12,
     "metadata": {},
     "output_type": "execute_result"
    }
   ],
   "source": [
    "model.fit(\n",
    "    X_train,\n",
    "    y_train,\n",
    "    epochs=1000,\n",
    "    batch_size=64,\n",
    "    validation_data=(X_test, y_test),\n",
    "    callbacks=[cp_callback, es_callback]\n",
    ")"
   ]
  },
  {
   "cell_type": "code",
   "execution_count": 13,
   "metadata": {
    "id": "RBkmDeUW9hE4"
   },
   "outputs": [],
   "source": [
    "# Loading the saved model\n",
    "# model = tf.keras.models.load_model(model_save_path)"
   ]
  },
  {
   "cell_type": "code",
   "execution_count": 14,
   "metadata": {
    "colab": {
     "base_uri": "https://localhost:8080/"
    },
    "id": "pxvb2Y299hE3",
    "outputId": "7015e279-0501-4f24-d1b5-90652d2de17d"
   },
   "outputs": [
    {
     "name": "stdout",
     "output_type": "stream",
     "text": [
      "26/26 [==============================] - 0s 1ms/step - loss: 0.0456 - accuracy: 0.9896\b\b\b\b\b\b\b\b\b\b\b\b\b\b\b\b\b\b\b\b\b\b\b\b\b\b\b\b\b\b\b\b\b\b\b\b\b\b\b\b\b\b\b\b\b\b\b\b\b\b\b\b\b\b\b\b\b\b\b\b\b\b\b\b\b\b\b\b\b\b\b\b\b\b\b\b\b\b\b\b\b\b\b\b\b\b\n"
     ]
    }
   ],
   "source": [
    "# Model evaluation\n",
    "# TODO Test on loaded model\n",
    "val_loss, val_acc = model.evaluate(X_test, y_test, batch_size=64)"
   ]
  },
  {
   "cell_type": "code",
   "execution_count": 15,
   "metadata": {
    "colab": {
     "base_uri": "https://localhost:8080/"
    },
    "id": "tFz9Tb0I9hE4",
    "outputId": "bb8a62a9-bf7d-4d99-8099-bda4e2e1c73a"
   },
   "outputs": [
    {
     "name": "stdout",
     "output_type": "stream",
     "text": [
      "[9.9912149e-01 8.7853073e-04 5.3556243e-14 4.2972977e-13 2.8450411e-13\n",
      " 7.1456529e-25 8.2106750e-18 1.3376958e-24 2.8211950e-24 8.3693149e-21]\n",
      "0\n"
     ]
    }
   ],
   "source": [
    "# Inference test\n",
    "predict_result = model.predict(np.array([X_test[0]]))\n",
    "print(np.squeeze(predict_result))\n",
    "print(np.argmax(np.squeeze(predict_result)))"
   ]
  },
  {
   "cell_type": "markdown",
   "metadata": {
    "id": "S3U4yNWx9hE4"
   },
   "source": [
    "# Confusion matrix"
   ]
  },
  {
   "cell_type": "code",
   "execution_count": 16,
   "metadata": {
    "colab": {
     "base_uri": "https://localhost:8080/",
     "height": 646
    },
    "id": "AP1V6SCk9hE5",
    "outputId": "efce96b9-ca1c-44a5-ef77-58f1d5fc154c"
   },
   "outputs": [
    {
     "data": {
      "image/png": "[encoded data removed]",
      "text/plain": [
       "<Figure size 504x432 with 2 Axes>"
      ]
     },
     "metadata": {
      "needs_background": "light"
     },
     "output_type": "display_data"
    },
    {
     "name": "stdout",
     "output_type": "stream",
     "text": [
      "Classification Report\n",
      "              precision    recall  f1-score   support\n",
      "\n",
      "           0       1.00      1.00      1.00       429\n",
      "           1       1.00      1.00      1.00       416\n",
      "           2       0.99      0.97      0.98       364\n",
      "           3       1.00      0.99      1.00       157\n",
      "           4       0.95      1.00      0.98        42\n",
      "           5       1.00      1.00      1.00        46\n",
      "           6       0.96      1.00      0.98        26\n",
      "           7       1.00      1.00      1.00        49\n",
      "           8       0.88      0.93      0.90        60\n",
      "           9       0.98      1.00      0.99        49\n",
      "\n",
      "    accuracy                           0.99      1638\n",
      "   macro avg       0.98      0.99      0.98      1638\n",
      "weighted avg       0.99      0.99      0.99      1638\n",
      "\n"
     ]
    }
   ],
   "source": [
    "import pandas as pd\n",
    "import seaborn as sns\n",
    "import matplotlib.pyplot as plt\n",
    "from sklearn.metrics import confusion_matrix, classification_report\n",
    "\n",
    "def print_confusion_matrix(y_true, y_pred, report=True):\n",
    "    labels = sorted(list(set(y_true)))\n",
    "    cmx_data = confusion_matrix(y_true, y_pred, labels=labels)\n",
    "    \n",
    "    df_cmx = pd.DataFrame(cmx_data, index=labels, columns=labels)\n",
    " \n",
    "    fig, ax = plt.subplots(figsize=(7, 6))\n",
    "    sns.heatmap(df_cmx, annot=True, fmt='g' ,square=False)\n",
    "    ax.set_ylim(len(set(y_true)), 0)\n",
    "    plt.show()\n",
    "    \n",
    "    if report:\n",
    "        print('Classification Report')\n",
    "        print(classification_report(y_test, y_pred))\n",
    "\n",
    "Y_pred = model.predict(X_test)\n",
    "y_pred = np.argmax(Y_pred, axis=1)\n",
    "\n",
    "print_confusion_matrix(y_test, y_pred)"
   ]
  },
  {
   "cell_type": "markdown",
   "metadata": {
    "id": "FNP6aqzc9hE5"
   },
   "source": [
    "# Convert to model for Tensorflow-Lite"
   ]
  },
  {
   "cell_type": "code",
   "execution_count": 19,
   "metadata": {
    "id": "ODjnYyld9hE6"
   },
   "outputs": [],
   "source": [
    "# Save as a model dedicated to inference\n",
    "model.save(model_save_path, include_optimizer=False)"
   ]
  },
  {
   "cell_type": "code",
   "execution_count": 20,
   "metadata": {
    "colab": {
     "base_uri": "https://localhost:8080/"
    },
    "id": "zRfuK8Y59hE6",
    "outputId": "106250fb-84e1-4ee8-bc8e-dcedb2bfd31c"
   },
   "outputs": [
    {
     "name": "stdout",
     "output_type": "stream",
     "text": [
      "INFO:tensorflow:Assets written to: C:\\Users\\PpwqDhr\\AppData\\Local\\Temp\\tmpn4i53ois\\assets\n"
     ]
    },
    {
     "name": "stderr",
     "output_type": "stream",
     "text": [
      "WARNING:absl:Buffer deduplication procedure will be skipped when flatbuffer library is not properly loaded\n"
     ]
    },
    {
     "data": {
      "text/plain": [
       "7840"
      ]
     },
     "execution_count": 20,
     "metadata": {},
     "output_type": "execute_result"
    }
   ],
   "source": [
    "# Transform model (quantization)\n",
    "\n",
    "converter = tf.lite.TFLiteConverter.from_keras_model(model)\n",
    "converter.optimizations = [tf.lite.Optimize.DEFAULT]\n",
    "tflite_quantized_model = converter.convert()\n",
    "\n",
    "open(tflite_save_path, 'wb').write(tflite_quantized_model)"
   ]
  },
  {
   "cell_type": "markdown",
   "metadata": {
    "id": "CHBPBXdx9hE6"
   },
   "source": [
    "## Inference test"
   ]
  },
  {
   "cell_type": "code",
   "execution_count": null,
   "metadata": {
    "id": "mGAzLocO9hE7"
   },
   "outputs": [],
   "source": [
    "interpreter = tf.lite.Interpreter(model_path=tflite_save_path)\n",
    "interpreter.allocate_tensors()"
   ]
  },
  {
   "cell_type": "code",
   "execution_count": null,
   "metadata": {
    "id": "oQuDK8YS9hE7"
   },
   "outputs": [],
   "source": [
    "# Get I / O tensor\n",
    "input_details = interpreter.get_input_details()\n",
    "output_details = interpreter.get_output_details()"
   ]
  },
  {
   "cell_type": "code",
   "execution_count": null,
   "metadata": {
    "id": "2_ixAf_l9hE7"
   },
   "outputs": [],
   "source": [
    "interpreter.set_tensor(input_details[0]['index'], np.array([X_test[0]]))"
   ]
  },
  {
   "cell_type": "code",
   "execution_count": null,
   "metadata": {
    "colab": {
     "base_uri": "https://localhost:8080/"
    },
    "id": "s4FoAnuc9hE7",
    "outputId": "330d050b-a3fb-41ce-fa07-dc7a48d715e7",
    "scrolled": true
   },
   "outputs": [
    {
     "name": "stdout",
     "output_type": "stream",
     "text": [
      "CPU times: user 117 µs, sys: 7 µs, total: 124 µs\n",
      "Wall time: 132 µs\n"
     ]
    }
   ],
   "source": [
    "%%time\n",
    "# Inference implementation\n",
    "interpreter.invoke()\n",
    "tflite_results = interpreter.get_tensor(output_details[0]['index'])"
   ]
  },
  {
   "cell_type": "code",
   "execution_count": null,
   "metadata": {
    "colab": {
     "base_uri": "https://localhost:8080/"
    },
    "id": "vONjp19J9hE8",
    "outputId": "9338c9f1-499b-4e10-844d-950075e98a75"
   },
   "outputs": [
    {
     "name": "stdout",
     "output_type": "stream",
     "text": [
      "[1.0000000e+00 1.7798680e-13 5.1755124e-26 1.1783223e-18 1.0188586e-18\n",
      " 1.1212574e-26 2.5901723e-24 2.6419864e-15]\n",
      "0\n"
     ]
    }
   ],
   "source": [
    "print(np.squeeze(tflite_results))\n",
    "print(np.argmax(np.squeeze(tflite_results)))"
   ]
  },
  {
   "cell_type": "markdown",
   "metadata": {
    "id": "2GCHB0ELGs60"
   },
   "source": [
    "## Download model"
   ]
  },
  {
   "cell_type": "code",
   "execution_count": null,
   "metadata": {
    "colab": {
     "base_uri": "https://localhost:8080/"
    },
    "id": "a2jM8I3jGdF6",
    "outputId": "bd2c08cc-d57c-4589-e4fa-f80389176b96"
   },
   "outputs": [
    {
     "name": "stdout",
     "output_type": "stream",
     "text": [
      "updating: keypoint_classifier/ (stored 0%)\n",
      "updating: keypoint_classifier/keypoint_classifier.tflite (deflated 22%)\n",
      "updating: keypoint_classifier/keypoint_classifier.hdf5 (deflated 60%)\n"
     ]
    }
   ],
   "source": [
    "!zip -r model.zip keypoint_classifier  "
   ]
  },
  {
   "cell_type": "markdown",
   "metadata": {
    "id": "vEqyprC6cMVF"
   },
   "source": [
    "\n",
    "\n",
    "---\n",
    "\n",
    "\n",
    "# ❗️Hyperparameters Tuning"
   ]
  },
  {
   "cell_type": "code",
   "execution_count": null,
   "metadata": {
    "id": "KrjjSqlLcQ4O"
   },
   "outputs": [],
   "source": [
    "%load_ext tensorboard\n",
    "from tensorboard.plugins.hparams import api as hp"
   ]
  },
  {
   "cell_type": "code",
   "execution_count": null,
   "metadata": {
    "id": "YO6VffaRcY3R"
   },
   "outputs": [],
   "source": [
    "# Init parameters to tune\n",
    "HP_NUM_UNITS_1 = hp.HParam('num_units_1', hp.Discrete([16, 32, 64]))\n",
    "HP_NUM_UNITS_2 = hp.HParam('num_units_2', hp.Discrete([8, 16, 32]))\n",
    "HP_NUM_UNITS_3 = hp.HParam('num_units_3', hp.Discrete([8, 16, 32]))\n",
    "HP_DROPOUT = hp.HParam('dropout', hp.RealInterval(0.0, 0.2))\n",
    "HP_OPTIMIZER = hp.HParam('optimizer', hp.Discrete(['adam', 'sgd']))\n",
    "\n",
    "METRIC_ACCURACY = 'accuracy'"
   ]
  },
  {
   "cell_type": "code",
   "execution_count": null,
   "metadata": {
    "id": "eMysvzFxctmG"
   },
   "outputs": [],
   "source": [
    "with tf.summary.create_file_writer('logs/hparam_tuning').as_default():\n",
    "  hp.hparams_config(\n",
    "    hparams=[HP_NUM_UNITS_1,HP_NUM_UNITS_2,HP_NUM_UNITS_3, HP_DROPOUT, HP_OPTIMIZER],\n",
    "    metrics=[hp.Metric(METRIC_ACCURACY, display_name='Accuracy')],\n",
    "  )"
   ]
  },
  {
   "cell_type": "code",
   "execution_count": null,
   "metadata": {
    "id": "XSDYqpKZgOBw"
   },
   "outputs": [],
   "source": [
    "# Model checkpoint callback\n",
    "cp_callback = tf.keras.callbacks.ModelCheckpoint(\n",
    "    model_save_path, verbose=1, save_weights_only=False, save_best_only=True)\n",
    "# Callback for early stopping\n",
    "es_callback = tf.keras.callbacks.EarlyStopping(patience=15, verbose=1)"
   ]
  },
  {
   "cell_type": "code",
   "execution_count": null,
   "metadata": {
    "id": "8ssEmXpJcxSp"
   },
   "outputs": [],
   "source": [
    "def train_test_model(hparams):\n",
    "\n",
    "  model = tf.keras.models.Sequential([\n",
    "    tf.keras.layers.Input((21 * 2, )),\n",
    "    tf.keras.layers.Dropout(hparams[HP_DROPOUT]),\n",
    "    tf.keras.layers.Dense(hparams[HP_NUM_UNITS_1], activation='relu'),\n",
    "    tf.keras.layers.Dropout(hparams[HP_DROPOUT]),\n",
    "    tf.keras.layers.Dense(hparams[HP_NUM_UNITS_2], activation='relu'),\n",
    "    tf.keras.layers.Dropout(hparams[HP_DROPOUT]),\n",
    "    tf.keras.layers.Dense(hparams[HP_NUM_UNITS_3], activation='relu'),\n",
    "    tf.keras.layers.Dense(NUM_CLASSES, activation='softmax')\n",
    "])\n",
    "  \n",
    "  model.compile(\n",
    "    optimizer=hparams[HP_OPTIMIZER],\n",
    "    loss='sparse_categorical_crossentropy',\n",
    "    metrics=['accuracy']\n",
    ")\n",
    "  \n",
    "  cp_callback = tf.keras.callbacks.ModelCheckpoint(\n",
    "    model_save_path, verbose=1, save_weights_only=False, save_best_only=True)\n",
    "\n",
    "  model.fit(\n",
    "    X_train,\n",
    "    y_train,\n",
    "    epochs=50,\n",
    "    batch_size=64,\n",
    "    validation_data=(X_test, y_test),\n",
    "    callbacks=[\n",
    "               cp_callback,\n",
    "               es_callback,\n",
    "               ]\n",
    "  ) \n",
    "\n",
    "  # Load model with best accuracy\n",
    "  model = tf.keras.models.load_model(model_save_path)\n",
    "\n",
    "  _, accuracy = model.evaluate(X_test, y_test)\n",
    "  return accuracy\n",
    "\n",
    "def run(run_dir, hparams):\n",
    "  with tf.summary.create_file_writer(run_dir).as_default():\n",
    "    hp.hparams(hparams)  # record the values used in this trial\n",
    "    accuracy = train_test_model(hparams)\n",
    "    tf.summary.scalar(METRIC_ACCURACY, accuracy, step=1)"
   ]
  },
  {
   "cell_type": "code",
   "execution_count": null,
   "metadata": {
    "id": "5pO9W84DdHVL"
   },
   "outputs": [],
   "source": [
    "session_num = 0\n",
    "\n",
    "for num_units_1 in HP_NUM_UNITS_1.domain.values:\n",
    "  for num_units_2 in HP_NUM_UNITS_2.domain.values:\n",
    "    for num_units_3 in HP_NUM_UNITS_3.domain.values:\n",
    "      for dropout_rate in np.arange(HP_DROPOUT.domain.min_value, HP_DROPOUT.domain.max_value, 0.1):\n",
    "        for optimizer in HP_OPTIMIZER.domain.values:\n",
    "          hparams = {\n",
    "              HP_NUM_UNITS_1: num_units_1,\n",
    "              HP_NUM_UNITS_2: num_units_2,\n",
    "              HP_NUM_UNITS_3: num_units_3,\n",
    "              HP_DROPOUT: dropout_rate,\n",
    "              HP_OPTIMIZER: optimizer,\n",
    "          }\n",
    "          run_name = \"run-%d\" % session_num\n",
    "          print('--- Starting trial: %s' % run_name)\n",
    "          print({h.name: hparams[h] for h in hparams})\n",
    "          run('logs/hparam_tuning/' + run_name, hparams)\n",
    "          session_num += 1"
   ]
  },
  {
   "cell_type": "code",
   "execution_count": null,
   "metadata": {
    "id": "21knbMYldaUn"
   },
   "outputs": [],
   "source": [
    "# !ATTENTION! Works only in Colab\n",
    "%tensorboard --logdir logs/hparam_tuning"
   ]
  },
  {
   "cell_type": "code",
   "execution_count": null,
   "metadata": {
    "id": "J6_UH6jttBsD"
   },
   "outputs": [],
   "source": [
    "!rm -rf logs"
   ]
  }
 ],
 "metadata": {
  "accelerator": "GPU",
  "colab": {
   "collapsed_sections": [],
   "name": "Keypoint_model_training.ipynb",
   "provenance": [],
   "toc_visible": true
  },
  "kernelspec": {
   "display_name": "PyCharm (tello-gesture-control-main)",
   "language": "python",
   "name": "pycharm-6a5e4b1a"
  },
  "language_info": {
   "codemirror_mode": {
    "name": "ipython",
    "version": 3
   },
   "file_extension": ".py",
   "mimetype": "text/x-python",
   "name": "python",
   "nbconvert_exporter": "python",
   "pygments_lexer": "ipython3",
   "version": "3.8.5"
  }
 },
 "nbformat": 4,
 "nbformat_minor": 0
}
