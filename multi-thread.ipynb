{
 "cells": [
  {
   "cell_type": "code",
   "execution_count": 2,
   "metadata": {},
   "outputs": [],
   "source": [
    "import cv2\n",
    "from threading import Thread, Event\n",
    "from queue import Queue\n",
    "import time"
   ]
  },
  {
   "cell_type": "code",
   "execution_count": 3,
   "metadata": {},
   "outputs": [],
   "source": [
    "class Holder:\n",
    "    queue_dynamic = Queue()\n",
    "    queue_gesture = Queue()\n",
    "    event = Event()\n",
    "    \n",
    "    def push(img):\n",
    "        Holder.queue_dynamic.put(img)\n",
    "        Holder.queue_gesture.put(img)\n",
    "        \n",
    "    def get_dynamic():\n",
    "        if Holder.queue_dynamic.empty():\n",
    "            return None\n",
    "        return Holder.queue_dynamic.get()\n",
    "    \n",
    "    def get_gesture():\n",
    "        if Holder.queue_gesture.empty():\n",
    "            return None\n",
    "        return Holder.queue_gesture.get()\n",
    "\n",
    "class CameraThread(Thread):        \n",
    "    def run(self):\n",
    "        self.cap = cv2.VideoCapture(0)\n",
    "        while True:\n",
    "            ret, frame = self.cap.read()\n",
    "            if not ret:\n",
    "                print('capture read None!')\n",
    "                break\n",
    "            Holder.push(frame)\n",
    "            if Holder.event.isSet():\n",
    "                break\n",
    "            cv2.imshow('camera-threading', frame)\n",
    "            if cv2.waitKey(10) == ord('q'):  # 点击视频，输入q退出\n",
    "                self.cap.release()\n",
    "                break\n",
    "        cv2.destroyAllWindows()"
   ]
  },
  {
   "cell_type": "code",
   "execution_count": 5,
   "metadata": {},
   "outputs": [],
   "source": [
    "class DynamicPose(Thread):\n",
    "    def run(self):\n",
    "        while True:\n",
    "            frame = Holder.get_dynamic()\n",
    "#             frame = cv2.flip(frame, 1)\n",
    "#             cv2.putText(frame, 'dynamic', (200, 100), \n",
    "#                         cv2.FONT_HERSHEY_COMPLEX, 2.0, (100, 200, 200))\n",
    "            cv2.imshow('dynamic', frame)\n",
    "            if cv2.waitKey(10) == ord('q'):  # 点击视频，输入q退出\n",
    "                break\n",
    "        cv2.destroyAllWindows()"
   ]
  },
  {
   "cell_type": "code",
   "execution_count": 6,
   "metadata": {},
   "outputs": [],
   "source": [
    "ct = CameraThread()\n",
    "dp = DynamicPose()"
   ]
  },
  {
   "cell_type": "code",
   "execution_count": 7,
   "metadata": {},
   "outputs": [
    {
     "name": "stderr",
     "output_type": "stream",
     "text": [
      "Exception in thread Thread-7:\n",
      "Traceback (most recent call last):\n",
      "  File \"D:\\program_pro\\Anaconda3\\lib\\threading.py\", line 932, in _bootstrap_inner\n",
      "    self.run()\n",
      "  File \"<ipython-input-5-e11bd581480b>\", line 9, in run\n",
      "cv2.error: OpenCV(4.5.2) C:\\Users\\runneradmin\\AppData\\Local\\Temp\\pip-req-build-k1ohfcms\\opencv\\modules\\highgui\\src\\window.cpp:404: error: (-215:Assertion failed) size.width>0 && size.height>0 in function 'cv::imshow'\n",
      "\n"
     ]
    }
   ],
   "source": [
    "ct.start()\n",
    "dp.start()\n",
    "# ct.join()\n",
    "# dp.join()"
   ]
  }
 ],
 "metadata": {
  "kernelspec": {
   "display_name": "Python 3",
   "language": "python",
   "name": "python3"
  },
  "language_info": {
   "codemirror_mode": {
    "name": "ipython",
    "version": 3
   },
   "file_extension": ".py",
   "mimetype": "text/x-python",
   "name": "python",
   "nbconvert_exporter": "python",
   "pygments_lexer": "ipython3",
   "version": "3.8.3"
  }
 },
 "nbformat": 4,
 "nbformat_minor": 4
}
